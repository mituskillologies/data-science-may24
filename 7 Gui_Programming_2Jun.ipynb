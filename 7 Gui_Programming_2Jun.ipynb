{
 "cells": [
  {
   "cell_type": "code",
   "execution_count": 1,
   "id": "863886b7",
   "metadata": {},
   "outputs": [],
   "source": [
    "import tkinter as tk"
   ]
  },
  {
   "cell_type": "code",
   "execution_count": 5,
   "id": "7b7dc689",
   "metadata": {},
   "outputs": [],
   "source": [
    "top = tk.Tk()\n",
    "\n",
    "top.mainloop()"
   ]
  },
  {
   "cell_type": "code",
   "execution_count": 7,
   "id": "b91e3bf9",
   "metadata": {},
   "outputs": [],
   "source": [
    "top = tk.Tk()\n",
    "\n",
    "top.title('My App')\n",
    "top.geometry('700x500')\n",
    "\n",
    "top.mainloop()"
   ]
  },
  {
   "cell_type": "code",
   "execution_count": 9,
   "id": "379e6ee3",
   "metadata": {},
   "outputs": [],
   "source": [
    "top = tk.Tk()\n",
    "\n",
    "top.title('My App')\n",
    "top.geometry('700x500')\n",
    "\n",
    "data = tk.IntVar()  # integer variable\n",
    "\n",
    "def show():\n",
    "    num = data.get() # getting the data\n",
    "    sq = num * num\n",
    "    result = tk.Label(top, text = 'Square is: %i' %sq).place(x = 50, y =200)\n",
    "\n",
    "l = tk.Label(top, text = 'Input: ').place(x = 100, y =100)    \n",
    "e = tk.Entry(top, textvariable = data).place(x = 150, y =100) \n",
    "b = tk.Button(top, text = \"square\", command = show).place(x = 50, y =150) \n",
    "\n",
    "top.mainloop()"
   ]
  },
  {
   "cell_type": "code",
   "execution_count": 14,
   "id": "99962dc4",
   "metadata": {},
   "outputs": [],
   "source": [
    "# read 2 numbers and find addition\n",
    "\n",
    "top = tk.Tk()\n",
    "\n",
    "top.title('My App')\n",
    "top.geometry('700x500')\n",
    "\n",
    "n1 = tk.IntVar()\n",
    "n2 = tk.IntVar()\n",
    "\n",
    "def addition():\n",
    "    add = n1.get() + n2.get()\n",
    "    tk.Label(top, text = 'Addition is: %i' %add).place(x = 50, y =200)\n",
    "\n",
    "tk.Label(top, text = 'Input: ').place(x = 100, y =100)    \n",
    "tk.Entry(top, textvariable = n1).place(x = 150, y =100) \n",
    "tk.Entry(top, textvariable = n2).place(x = 300, y =100) \n",
    "tk.Button(top, text = \"Add\", command = addition).place(x = 270, y =150)     \n",
    "\n",
    "\n",
    "top.mainloop()"
   ]
  },
  {
   "cell_type": "code",
   "execution_count": null,
   "id": "24e7e33c",
   "metadata": {},
   "outputs": [],
   "source": []
  }
 ],
 "metadata": {
  "kernelspec": {
   "display_name": "Python 3 (ipykernel)",
   "language": "python",
   "name": "python3"
  },
  "language_info": {
   "codemirror_mode": {
    "name": "ipython",
    "version": 3
   },
   "file_extension": ".py",
   "mimetype": "text/x-python",
   "name": "python",
   "nbconvert_exporter": "python",
   "pygments_lexer": "ipython3",
   "version": "3.11.5"
  }
 },
 "nbformat": 4,
 "nbformat_minor": 5
}
