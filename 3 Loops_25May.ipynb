{
 "cells": [
  {
   "cell_type": "code",
   "execution_count": 5,
   "id": "859144a7",
   "metadata": {},
   "outputs": [
    {
     "name": "stdout",
     "output_type": "stream",
     "text": [
      "Aditya Aditya Aditya Aditya Aditya Aditya Aditya "
     ]
    }
   ],
   "source": [
    "# print name 7 times\n",
    "\n",
    "count = 0\n",
    "\n",
    "while count < 7:\n",
    "    print('Aditya', end = ' ')\n",
    "    count = count + 1"
   ]
  },
  {
   "cell_type": "code",
   "execution_count": 12,
   "id": "e3cb37f7",
   "metadata": {},
   "outputs": [
    {
     "name": "stdout",
     "output_type": "stream",
     "text": [
      "Aditya Aditya Aditya Aditya Aditya Aditya Aditya Goodbye!!!\n",
      "Aditya "
     ]
    }
   ],
   "source": [
    "count = 0\n",
    "\n",
    "while count < 7:\n",
    "    print('Aditya', end = ' ')\n",
    "    count = count + 1\n",
    "    \n",
    "print('Goodbye!!!')\n",
    "\n",
    "while count <= 7:\n",
    "    print('Aditya', end = ' ')\n",
    "    count = count + 1"
   ]
  },
  {
   "cell_type": "code",
   "execution_count": 13,
   "id": "d3243052",
   "metadata": {},
   "outputs": [
    {
     "data": {
      "text/plain": [
       "8"
      ]
     },
     "execution_count": 13,
     "metadata": {},
     "output_type": "execute_result"
    }
   ],
   "source": [
    "count"
   ]
  },
  {
   "cell_type": "code",
   "execution_count": 14,
   "id": "8c4ee54c",
   "metadata": {},
   "outputs": [
    {
     "name": "stdout",
     "output_type": "stream",
     "text": [
      "10\n",
      "11\n",
      "12\n",
      "13\n",
      "14\n",
      "15\n",
      "Bye!!!\n"
     ]
    }
   ],
   "source": [
    "# print the numbers from 10 to 15\n",
    "\n",
    "count = 10\n",
    "\n",
    "while count <= 15:\n",
    "    print(count)\n",
    "    count += 1   # count = count + 1\n",
    "    \n",
    "print('Bye!!!')"
   ]
  },
  {
   "cell_type": "code",
   "execution_count": 15,
   "id": "08162614",
   "metadata": {},
   "outputs": [
    {
     "data": {
      "text/plain": [
       "16"
      ]
     },
     "execution_count": 15,
     "metadata": {},
     "output_type": "execute_result"
    }
   ],
   "source": [
    "count"
   ]
  },
  {
   "cell_type": "code",
   "execution_count": 16,
   "id": "380b0abe",
   "metadata": {},
   "outputs": [
    {
     "name": "stdout",
     "output_type": "stream",
     "text": [
      "Addition is:  55\n"
     ]
    }
   ],
   "source": [
    "# find the addition of numbers from 1 to 10\n",
    "\n",
    "count = 1\n",
    "add = 0\n",
    "\n",
    "while count <= 10:\n",
    "    add = add + count\n",
    "    count += 1\n",
    "    \n",
    "print('Addition is: ', add)"
   ]
  },
  {
   "cell_type": "code",
   "execution_count": 17,
   "id": "79321297",
   "metadata": {},
   "outputs": [
    {
     "name": "stdout",
     "output_type": "stream",
     "text": [
      "Addition of odd numbers:  100\n"
     ]
    }
   ],
   "source": [
    "# find the addition of odd numbers from 1 to 20\n",
    "\n",
    "count = 1\n",
    "add = 0\n",
    "\n",
    "while count <=20:\n",
    "    add = add + count\n",
    "    count += 2\n",
    "    \n",
    "print('Addition of odd numbers: ', add)"
   ]
  },
  {
   "cell_type": "code",
   "execution_count": 18,
   "id": "99c83482",
   "metadata": {},
   "outputs": [
    {
     "data": {
      "text/plain": [
       "21"
      ]
     },
     "execution_count": 18,
     "metadata": {},
     "output_type": "execute_result"
    }
   ],
   "source": [
    "count"
   ]
  },
  {
   "cell_type": "code",
   "execution_count": 26,
   "id": "88618768",
   "metadata": {},
   "outputs": [
    {
     "name": "stdout",
     "output_type": "stream",
     "text": [
      "120\n"
     ]
    }
   ],
   "source": [
    "# factorial for a number => 5\n",
    "# 5! = 5 * 4 * 3 * 2 * 1\n",
    "\n",
    "num = 5\n",
    "fact = 1\n",
    "\n",
    "while num >= 1:\n",
    "    fact = fact * num\n",
    "    num -= 1\n",
    "\n",
    "print(fact)"
   ]
  },
  {
   "cell_type": "code",
   "execution_count": 27,
   "id": "c2403fbb",
   "metadata": {},
   "outputs": [
    {
     "name": "stdout",
     "output_type": "stream",
     "text": [
      "120\n"
     ]
    }
   ],
   "source": [
    "# num = 1\n",
    "\n",
    "num = 1\n",
    "fact = 1\n",
    "\n",
    "while num <= 5:\n",
    "    fact = fact * num\n",
    "    num += 1\n",
    "\n",
    "print(fact)"
   ]
  },
  {
   "cell_type": "code",
   "execution_count": 30,
   "id": "6d532fce",
   "metadata": {},
   "outputs": [
    {
     "name": "stdout",
     "output_type": "stream",
     "text": [
      "Aditya Aditya Aditya Aditya Aditya Aditya DONE\n"
     ]
    }
   ],
   "source": [
    "# else\n",
    "\n",
    "count = 1\n",
    "\n",
    "while count < 7:\n",
    "    print('Aditya', end = ' ')\n",
    "    count = count + 1\n",
    "else:\n",
    "    print('DONE')"
   ]
  },
  {
   "cell_type": "code",
   "execution_count": 32,
   "id": "afbf05ee",
   "metadata": {},
   "outputs": [
    {
     "name": "stdout",
     "output_type": "stream",
     "text": [
      "5\n",
      "1234\n"
     ]
    }
   ],
   "source": [
    "# find the addition of the digits in number\n",
    "# 12345 => 1 + 2 + 3 + 4 + 5 = 15\n",
    "num = 12345\n",
    "\n",
    "rem = num % 10\n",
    "print(rem)\n",
    "num = num // 10\n",
    "print(num)"
   ]
  },
  {
   "cell_type": "code",
   "execution_count": 34,
   "id": "735bbe4a",
   "metadata": {},
   "outputs": [
    {
     "name": "stdout",
     "output_type": "stream",
     "text": [
      "sum of the digits is:  15\n"
     ]
    }
   ],
   "source": [
    "num = 12345\n",
    "add = 0\n",
    "\n",
    "while num > 0:\n",
    "    rem = num % 10\n",
    "    add = add + rem\n",
    "    num = num // 10\n",
    "    \n",
    "print('sum of the digits is: ', add)"
   ]
  },
  {
   "cell_type": "markdown",
   "id": "20c8793d",
   "metadata": {},
   "source": [
    "### For loop"
   ]
  },
  {
   "cell_type": "code",
   "execution_count": 35,
   "id": "78fc4e90",
   "metadata": {},
   "outputs": [
    {
     "name": "stdout",
     "output_type": "stream",
     "text": [
      "42\n",
      "31\n",
      "21\n",
      "20\n",
      "67\n"
     ]
    }
   ],
   "source": [
    "for n in 42, 31, 21, 20, 67:\n",
    "    print(n)"
   ]
  },
  {
   "cell_type": "code",
   "execution_count": 36,
   "id": "3725fd9f",
   "metadata": {},
   "outputs": [
    {
     "name": "stdout",
     "output_type": "stream",
     "text": [
      "21.0\n",
      "15.5\n",
      "10.5\n",
      "10.0\n",
      "33.5\n"
     ]
    }
   ],
   "source": [
    "for n in 42, 31, 21, 20, 67:\n",
    "    print(n/2)"
   ]
  },
  {
   "cell_type": "code",
   "execution_count": 40,
   "id": "4595a7ac",
   "metadata": {},
   "outputs": [
    {
     "name": "stdout",
     "output_type": "stream",
     "text": [
      "42\n",
      "31\n",
      "21\n",
      "20\n",
      "67.82\n",
      "Adi\n",
      "True\n"
     ]
    }
   ],
   "source": [
    "for n in 42, 31, 21, 20, 67.82, 'Adi', True:\n",
    "    print(n)"
   ]
  },
  {
   "cell_type": "markdown",
   "id": "be6b259a",
   "metadata": {},
   "source": [
    "#### range function"
   ]
  },
  {
   "cell_type": "code",
   "execution_count": 42,
   "id": "afe3581d",
   "metadata": {},
   "outputs": [
    {
     "data": {
      "text/plain": [
       "[0, 1, 2, 3, 4, 5, 6, 7, 8, 9]"
      ]
     },
     "execution_count": 42,
     "metadata": {},
     "output_type": "execute_result"
    }
   ],
   "source": [
    "list(range(10))"
   ]
  },
  {
   "cell_type": "code",
   "execution_count": 43,
   "id": "d01f4bde",
   "metadata": {},
   "outputs": [
    {
     "data": {
      "text/plain": [
       "[5, 6, 7, 8, 9, 10, 11, 12, 13, 14]"
      ]
     },
     "execution_count": 43,
     "metadata": {},
     "output_type": "execute_result"
    }
   ],
   "source": [
    "list(range(5, 15))"
   ]
  },
  {
   "cell_type": "code",
   "execution_count": 44,
   "id": "b4ac44fb",
   "metadata": {},
   "outputs": [
    {
     "data": {
      "text/plain": [
       "[5, 7, 9, 11, 13]"
      ]
     },
     "execution_count": 44,
     "metadata": {},
     "output_type": "execute_result"
    }
   ],
   "source": [
    "list(range(5, 15, 2))"
   ]
  },
  {
   "cell_type": "code",
   "execution_count": 45,
   "id": "a1c0e0ab",
   "metadata": {},
   "outputs": [],
   "source": [
    "# range(start, end+1, step)"
   ]
  },
  {
   "cell_type": "code",
   "execution_count": 47,
   "id": "9a71da16",
   "metadata": {},
   "outputs": [
    {
     "name": "stdout",
     "output_type": "stream",
     "text": [
      "10\n",
      "11\n",
      "12\n",
      "13\n",
      "14\n",
      "15\n"
     ]
    }
   ],
   "source": [
    "for n in range(10, 16):\n",
    "    print(n)"
   ]
  },
  {
   "cell_type": "code",
   "execution_count": 48,
   "id": "fc0c95eb",
   "metadata": {},
   "outputs": [
    {
     "name": "stdout",
     "output_type": "stream",
     "text": [
      "1\n",
      "4\n",
      "9\n",
      "16\n",
      "25\n"
     ]
    }
   ],
   "source": [
    "# print the squares of numbers 1 to 5\n",
    "\n",
    "for n in range(1,6):\n",
    "    print(n*n)"
   ]
  },
  {
   "cell_type": "code",
   "execution_count": 49,
   "id": "0303f3c3",
   "metadata": {},
   "outputs": [
    {
     "name": "stdout",
     "output_type": "stream",
     "text": [
      "Adi Adi Adi Adi Adi Adi Adi Adi Adi Adi Adi Adi Adi Adi Adi Adi Adi Adi Adi Adi "
     ]
    }
   ],
   "source": [
    "# print your name 20 times\n",
    "\n",
    "for n in range(20):\n",
    "    print('Adi', end = ' ')"
   ]
  },
  {
   "cell_type": "code",
   "execution_count": 50,
   "id": "9703c01e",
   "metadata": {},
   "outputs": [
    {
     "name": "stdout",
     "output_type": "stream",
     "text": [
      "Addition:  120\n"
     ]
    }
   ],
   "source": [
    "# addition of 1 to 15 numbers using for loop\n",
    "\n",
    "add = 0\n",
    "for n in range(1,16):\n",
    "    add = add + n\n",
    "    \n",
    "print('Addition: ', add)"
   ]
  },
  {
   "cell_type": "code",
   "execution_count": 51,
   "id": "5635a0fc",
   "metadata": {},
   "outputs": [
    {
     "name": "stdout",
     "output_type": "stream",
     "text": [
      "Addition:  100\n"
     ]
    }
   ],
   "source": [
    "# addition of odd numbers from 1 to 20\n",
    "\n",
    "add = 0\n",
    "for n in range(1, 21, 2):\n",
    "    add = add + n\n",
    "    \n",
    "print('Addition: ', add)"
   ]
  },
  {
   "cell_type": "code",
   "execution_count": 52,
   "id": "a9a1d22f",
   "metadata": {},
   "outputs": [
    {
     "name": "stdout",
     "output_type": "stream",
     "text": [
      "A\n",
      "d\n",
      "i\n",
      "t\n",
      "y\n",
      "a\n"
     ]
    }
   ],
   "source": [
    "name = 'Aditya'\n",
    "\n",
    "for n in name:\n",
    "    print(n)"
   ]
  },
  {
   "cell_type": "code",
   "execution_count": 53,
   "id": "62ae292b",
   "metadata": {},
   "outputs": [
    {
     "name": "stdout",
     "output_type": "stream",
     "text": [
      "A\n",
      "d\n",
      "i\n",
      "t\n",
      "y\n",
      "a\n",
      "OK\n"
     ]
    }
   ],
   "source": [
    "# else\n",
    "\n",
    "name = 'Aditya'\n",
    "\n",
    "for n in name:\n",
    "    print(n)\n",
    "else:\n",
    "    print('OK')"
   ]
  },
  {
   "cell_type": "code",
   "execution_count": 58,
   "id": "8762e9cf",
   "metadata": {},
   "outputs": [
    {
     "name": "stdout",
     "output_type": "stream",
     "text": [
      "Enter the number 5\n",
      "120\n"
     ]
    }
   ],
   "source": [
    "# find factorial \n",
    "\n",
    "num = int(input('Enter the number '))\n",
    "fact = 1\n",
    "for n in range(1, num + 1):\n",
    "    fact = fact * n\n",
    "\n",
    "print(fact)"
   ]
  },
  {
   "cell_type": "markdown",
   "id": "b23fea40",
   "metadata": {},
   "source": [
    "## flow control statements"
   ]
  },
  {
   "cell_type": "markdown",
   "id": "31c20c64",
   "metadata": {},
   "source": [
    "#### 1. break"
   ]
  },
  {
   "cell_type": "code",
   "execution_count": 61,
   "id": "5c98768a",
   "metadata": {},
   "outputs": [
    {
     "name": "stdout",
     "output_type": "stream",
     "text": [
      "1 2 3 4 5 6 7 8 9 10 "
     ]
    }
   ],
   "source": [
    "for n in range(1,16):\n",
    "    if n == 11:\n",
    "        break\n",
    "    print(n, end = \" \")"
   ]
  },
  {
   "cell_type": "markdown",
   "id": "31732c2b",
   "metadata": {},
   "source": [
    "#### 2. continue"
   ]
  },
  {
   "cell_type": "code",
   "execution_count": 63,
   "id": "65e61309",
   "metadata": {},
   "outputs": [
    {
     "name": "stdout",
     "output_type": "stream",
     "text": [
      "1 2 3 4 5 6 7 8 9 10 12 13 14 15 "
     ]
    }
   ],
   "source": [
    "for n in range(1,16):\n",
    "    if n == 11:\n",
    "        continue\n",
    "    print(n, end = \" \")"
   ]
  },
  {
   "cell_type": "code",
   "execution_count": 66,
   "id": "1eb28331",
   "metadata": {},
   "outputs": [],
   "source": [
    "# pass\n",
    "\n",
    "num = 10\n",
    "if num > 9:\n",
    "    pass"
   ]
  },
  {
   "cell_type": "code",
   "execution_count": null,
   "id": "fb3c3024",
   "metadata": {},
   "outputs": [],
   "source": []
  }
 ],
 "metadata": {
  "kernelspec": {
   "display_name": "Python 3 (ipykernel)",
   "language": "python",
   "name": "python3"
  },
  "language_info": {
   "codemirror_mode": {
    "name": "ipython",
    "version": 3
   },
   "file_extension": ".py",
   "mimetype": "text/x-python",
   "name": "python",
   "nbconvert_exporter": "python",
   "pygments_lexer": "ipython3",
   "version": "3.11.5"
  }
 },
 "nbformat": 4,
 "nbformat_minor": 5
}
