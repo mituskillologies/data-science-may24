{
 "cells": [
  {
   "cell_type": "code",
   "execution_count": 1,
   "id": "bafcf643-365d-4651-b60c-d58505abc105",
   "metadata": {},
   "outputs": [
    {
     "name": "stdout",
     "output_type": "stream",
     "text": [
      "Hello World\n"
     ]
    }
   ],
   "source": [
    "print('Hello World')"
   ]
  },
  {
   "cell_type": "code",
   "execution_count": 2,
   "id": "1eae85a3-7622-48e8-84cc-265347877470",
   "metadata": {},
   "outputs": [
    {
     "name": "stdout",
     "output_type": "stream",
     "text": [
      "Hello World\n",
      "Welcome All!\n",
      "God Bye...\n"
     ]
    }
   ],
   "source": [
    "print('Hello World')\n",
    "print('Welcome All!')\n",
    "print('God Bye...')"
   ]
  },
  {
   "cell_type": "code",
   "execution_count": 3,
   "id": "2d237529-08cf-4540-9e57-7646dd08c5a3",
   "metadata": {},
   "outputs": [],
   "source": [
    "num = 56"
   ]
  },
  {
   "cell_type": "code",
   "execution_count": 4,
   "id": "ddba69d4-4ec3-4e5e-a766-66b52e26fb3b",
   "metadata": {},
   "outputs": [
    {
     "name": "stdout",
     "output_type": "stream",
     "text": [
      "56\n"
     ]
    }
   ],
   "source": [
    "print(num)"
   ]
  },
  {
   "cell_type": "code",
   "execution_count": 5,
   "id": "6a0a5380-01e0-4e0b-a285-92ca9008832f",
   "metadata": {},
   "outputs": [
    {
     "name": "stdout",
     "output_type": "stream",
     "text": [
      "67 33\n"
     ]
    }
   ],
   "source": [
    "num1 = 67\n",
    "num2 = 33\n",
    "print(num1, num2)"
   ]
  },
  {
   "cell_type": "code",
   "execution_count": 6,
   "id": "b517e4e0-191f-4bcd-a9d3-8a88585ecbc4",
   "metadata": {},
   "outputs": [
    {
     "name": "stdout",
     "output_type": "stream",
     "text": [
      "100\n"
     ]
    }
   ],
   "source": [
    "add = num1 + num2\n",
    "print(add)"
   ]
  },
  {
   "cell_type": "code",
   "execution_count": 7,
   "id": "6d514eb3-2ad0-4a55-97da-a736c36c98e7",
   "metadata": {},
   "outputs": [
    {
     "data": {
      "text/plain": [
       "int"
      ]
     },
     "execution_count": 7,
     "metadata": {},
     "output_type": "execute_result"
    }
   ],
   "source": [
    "type(num)"
   ]
  },
  {
   "cell_type": "code",
   "execution_count": 8,
   "id": "97585ebd-73b9-4dc1-be9f-5a15ff7d5fa1",
   "metadata": {},
   "outputs": [
    {
     "data": {
      "text/plain": [
       "float"
      ]
     },
     "execution_count": 8,
     "metadata": {},
     "output_type": "execute_result"
    }
   ],
   "source": [
    "num = 56.89\n",
    "type(num)"
   ]
  },
  {
   "cell_type": "code",
   "execution_count": 9,
   "id": "a3611a27-fe4f-4af9-9f64-e46834d0d77c",
   "metadata": {},
   "outputs": [
    {
     "data": {
      "text/plain": [
       "str"
      ]
     },
     "execution_count": 9,
     "metadata": {},
     "output_type": "execute_result"
    }
   ],
   "source": [
    "name = 'tushar'\n",
    "type(name)"
   ]
  },
  {
   "cell_type": "code",
   "execution_count": 10,
   "id": "3868a364-ee8d-4be6-965a-bc890452594c",
   "metadata": {},
   "outputs": [
    {
     "ename": "SyntaxError",
     "evalue": "invalid syntax (2931350250.py, line 1)",
     "output_type": "error",
     "traceback": [
      "\u001b[0;36m  Cell \u001b[0;32mIn[10], line 1\u001b[0;36m\u001b[0m\n\u001b[0;31m    pass = 'hello'\u001b[0m\n\u001b[0m         ^\u001b[0m\n\u001b[0;31mSyntaxError\u001b[0m\u001b[0;31m:\u001b[0m invalid syntax\n"
     ]
    }
   ],
   "source": [
    "pass = 'hello'"
   ]
  },
  {
   "cell_type": "code",
   "execution_count": 11,
   "id": "93277363-7be0-4790-abc7-fe0990959ecd",
   "metadata": {},
   "outputs": [
    {
     "ename": "SyntaxError",
     "evalue": "invalid syntax (3131984074.py, line 1)",
     "output_type": "error",
     "traceback": [
      "\u001b[0;36m  Cell \u001b[0;32mIn[11], line 1\u001b[0;36m\u001b[0m\n\u001b[0;31m    class = 'third'\u001b[0m\n\u001b[0m          ^\u001b[0m\n\u001b[0;31mSyntaxError\u001b[0m\u001b[0;31m:\u001b[0m invalid syntax\n"
     ]
    }
   ],
   "source": [
    "class = 'third'"
   ]
  },
  {
   "cell_type": "code",
   "execution_count": 12,
   "id": "f1534ea3-0138-4431-b854-1c4228421d7c",
   "metadata": {},
   "outputs": [],
   "source": [
    "num = 648384749846124971248716472194761241289421749712849"
   ]
  },
  {
   "cell_type": "code",
   "execution_count": 13,
   "id": "4bfa30e8-dfae-4aab-a77a-3eb09691afdf",
   "metadata": {},
   "outputs": [
    {
     "name": "stdout",
     "output_type": "stream",
     "text": [
      "648384749846124971248716472194761241289421749712849\n"
     ]
    }
   ],
   "source": [
    "print(num)"
   ]
  },
  {
   "cell_type": "code",
   "execution_count": 14,
   "id": "8b3eb504-727e-41a7-9483-f7b7d6977514",
   "metadata": {},
   "outputs": [
    {
     "data": {
      "text/plain": [
       "int"
      ]
     },
     "execution_count": 14,
     "metadata": {},
     "output_type": "execute_result"
    }
   ],
   "source": [
    "type(num)"
   ]
  },
  {
   "cell_type": "code",
   "execution_count": 15,
   "id": "d7801279-a7c5-4177-9271-6ee3882ce371",
   "metadata": {},
   "outputs": [],
   "source": [
    "num = 7388.75274124848174018448141"
   ]
  },
  {
   "cell_type": "code",
   "execution_count": 16,
   "id": "00288a5f-f227-49a8-8ada-6a3e14975a92",
   "metadata": {},
   "outputs": [
    {
     "data": {
      "text/plain": [
       "7388.7527412484815"
      ]
     },
     "execution_count": 16,
     "metadata": {},
     "output_type": "execute_result"
    }
   ],
   "source": [
    "num"
   ]
  },
  {
   "cell_type": "code",
   "execution_count": 17,
   "id": "71e5acb5-5470-4341-ae52-e4a87eff178f",
   "metadata": {},
   "outputs": [
    {
     "data": {
      "text/plain": [
       "float"
      ]
     },
     "execution_count": 17,
     "metadata": {},
     "output_type": "execute_result"
    }
   ],
   "source": [
    "type(num)"
   ]
  },
  {
   "cell_type": "code",
   "execution_count": 18,
   "id": "fc659e1a-4fd7-4ac2-962b-c8ac9e6245bf",
   "metadata": {},
   "outputs": [],
   "source": [
    "num1, num2, num3 = 67, 23, 69"
   ]
  },
  {
   "cell_type": "code",
   "execution_count": 19,
   "id": "83de4f50-ee79-48b7-94fd-4ff0e40fd108",
   "metadata": {},
   "outputs": [
    {
     "data": {
      "text/plain": [
       "67"
      ]
     },
     "execution_count": 19,
     "metadata": {},
     "output_type": "execute_result"
    }
   ],
   "source": [
    "num1"
   ]
  },
  {
   "cell_type": "code",
   "execution_count": 20,
   "id": "be829581-3351-4f1f-be40-809ed4ac2b6f",
   "metadata": {},
   "outputs": [
    {
     "data": {
      "text/plain": [
       "23"
      ]
     },
     "execution_count": 20,
     "metadata": {},
     "output_type": "execute_result"
    }
   ],
   "source": [
    "num2"
   ]
  },
  {
   "cell_type": "code",
   "execution_count": 21,
   "id": "4c17ac64-ce9f-4cae-a226-20e892da63fd",
   "metadata": {},
   "outputs": [
    {
     "data": {
      "text/plain": [
       "69"
      ]
     },
     "execution_count": 21,
     "metadata": {},
     "output_type": "execute_result"
    }
   ],
   "source": [
    "num3"
   ]
  },
  {
   "cell_type": "code",
   "execution_count": 22,
   "id": "30836685-da38-4144-bef7-de6b61809733",
   "metadata": {},
   "outputs": [],
   "source": [
    "num1, num2, num3 = 67, 23.18, 'hello'"
   ]
  },
  {
   "cell_type": "code",
   "execution_count": 23,
   "id": "d050fe7d-a6d2-4b64-bc28-a23c836570a6",
   "metadata": {},
   "outputs": [
    {
     "name": "stdout",
     "output_type": "stream",
     "text": [
      "67 23.18 hello\n"
     ]
    }
   ],
   "source": [
    "print(num1, num2, num3)"
   ]
  },
  {
   "cell_type": "code",
   "execution_count": 24,
   "id": "e23979f6-fc82-422c-8951-236302b93a13",
   "metadata": {},
   "outputs": [],
   "source": [
    "num1 = num2 = num3 = 67"
   ]
  },
  {
   "cell_type": "code",
   "execution_count": 25,
   "id": "61f1939f-28c0-4a00-806d-04579ceef0fe",
   "metadata": {},
   "outputs": [
    {
     "name": "stdout",
     "output_type": "stream",
     "text": [
      "67 67 67\n"
     ]
    }
   ],
   "source": [
    "print(num1, num2, num3)"
   ]
  },
  {
   "cell_type": "code",
   "execution_count": 26,
   "id": "84c540d7-2f7a-4216-83e3-145f135ec9c8",
   "metadata": {},
   "outputs": [
    {
     "name": "stdout",
     "output_type": "stream",
     "text": [
      "Addition: 100\n"
     ]
    }
   ],
   "source": [
    "num1, num2 = 37, 63\n",
    "add = num1 + num2\n",
    "print('Addition:', add)"
   ]
  },
  {
   "cell_type": "code",
   "execution_count": 27,
   "id": "ca01d592-8075-4252-a75d-5edd35c17150",
   "metadata": {},
   "outputs": [
    {
     "name": "stdout",
     "output_type": "stream",
     "text": [
      "Addition: 100\n"
     ]
    }
   ],
   "source": [
    "num1, num2 = 37, 63; add = num1 + num2; print('Addition:', add)"
   ]
  },
  {
   "cell_type": "markdown",
   "id": "23d232e2-47e5-45d3-a831-77c028d98245",
   "metadata": {},
   "source": [
    "#### String Operations"
   ]
  },
  {
   "cell_type": "code",
   "execution_count": 28,
   "id": "08517a8b-4df3-4e8b-b2d2-96729defa3b8",
   "metadata": {},
   "outputs": [],
   "source": [
    "name = 'Tushar'"
   ]
  },
  {
   "cell_type": "code",
   "execution_count": 29,
   "id": "049fefee-c752-4db5-a54c-8ec5821dc07a",
   "metadata": {},
   "outputs": [
    {
     "data": {
      "text/plain": [
       "str"
      ]
     },
     "execution_count": 29,
     "metadata": {},
     "output_type": "execute_result"
    }
   ],
   "source": [
    "type(name)"
   ]
  },
  {
   "cell_type": "code",
   "execution_count": 30,
   "id": "9857fd7a-10cb-4882-bf0a-d464e1e0b516",
   "metadata": {},
   "outputs": [
    {
     "name": "stdout",
     "output_type": "stream",
     "text": [
      "My name is: Tushar\n"
     ]
    }
   ],
   "source": [
    "print('My name is:', name)"
   ]
  },
  {
   "cell_type": "code",
   "execution_count": 31,
   "id": "ec502aa7-1262-4db4-812e-5c42ef656e69",
   "metadata": {},
   "outputs": [],
   "source": [
    "city = 'Pune'"
   ]
  },
  {
   "cell_type": "code",
   "execution_count": 32,
   "id": "bd187eac-6775-44e3-8645-5a0823092f53",
   "metadata": {},
   "outputs": [
    {
     "data": {
      "text/plain": [
       "'TusharPune'"
      ]
     },
     "execution_count": 32,
     "metadata": {},
     "output_type": "execute_result"
    }
   ],
   "source": [
    "name + city"
   ]
  },
  {
   "cell_type": "code",
   "execution_count": 33,
   "id": "b94beca1-3ddc-406f-a54e-4f809a5d6d7b",
   "metadata": {},
   "outputs": [
    {
     "data": {
      "text/plain": [
       "'TusharKute'"
      ]
     },
     "execution_count": 33,
     "metadata": {},
     "output_type": "execute_result"
    }
   ],
   "source": [
    "name + 'Kute'"
   ]
  },
  {
   "cell_type": "code",
   "execution_count": 38,
   "id": "7309f80b-e2d9-41ef-8815-2778b8dce514",
   "metadata": {},
   "outputs": [],
   "source": [
    "fullname = name + ' Kute'"
   ]
  },
  {
   "cell_type": "code",
   "execution_count": 39,
   "id": "91f49074-3213-45d8-8598-b77d51224563",
   "metadata": {},
   "outputs": [
    {
     "name": "stdout",
     "output_type": "stream",
     "text": [
      "Tushar Kute\n"
     ]
    }
   ],
   "source": [
    "print(fullname)"
   ]
  },
  {
   "cell_type": "code",
   "execution_count": 36,
   "id": "05bda12b-c7c7-4a03-ad1a-977657df6a85",
   "metadata": {},
   "outputs": [
    {
     "data": {
      "text/plain": [
       "'TusharTusharTushar'"
      ]
     },
     "execution_count": 36,
     "metadata": {},
     "output_type": "execute_result"
    }
   ],
   "source": [
    "name * 3"
   ]
  },
  {
   "cell_type": "code",
   "execution_count": 37,
   "id": "1c56170b-3003-4bd1-964d-d58743829b0d",
   "metadata": {},
   "outputs": [
    {
     "data": {
      "text/plain": [
       "'TusharTusharTusharTusharTusharTusharTusharTusharTusharTushar'"
      ]
     },
     "execution_count": 37,
     "metadata": {},
     "output_type": "execute_result"
    }
   ],
   "source": [
    "name * 10"
   ]
  },
  {
   "cell_type": "code",
   "execution_count": 40,
   "id": "c0573671-59ae-4bb5-b079-d2174544b7da",
   "metadata": {},
   "outputs": [
    {
     "data": {
      "text/plain": [
       "'tushar'"
      ]
     },
     "execution_count": 40,
     "metadata": {},
     "output_type": "execute_result"
    }
   ],
   "source": [
    "name.lower()"
   ]
  },
  {
   "cell_type": "code",
   "execution_count": 41,
   "id": "78a04c92-a20c-4bdb-ace6-761dae3dd834",
   "metadata": {},
   "outputs": [
    {
     "data": {
      "text/plain": [
       "'TUSHAR'"
      ]
     },
     "execution_count": 41,
     "metadata": {},
     "output_type": "execute_result"
    }
   ],
   "source": [
    "name.upper()"
   ]
  },
  {
   "cell_type": "code",
   "execution_count": 42,
   "id": "783547f7-4300-4e9d-8419-752c73e37e74",
   "metadata": {},
   "outputs": [
    {
     "data": {
      "text/plain": [
       "'tUSHAR'"
      ]
     },
     "execution_count": 42,
     "metadata": {},
     "output_type": "execute_result"
    }
   ],
   "source": [
    "name.swapcase()"
   ]
  },
  {
   "cell_type": "code",
   "execution_count": 43,
   "id": "97aec79a-f02e-4b6a-aca7-c737da261105",
   "metadata": {},
   "outputs": [
    {
     "data": {
      "text/plain": [
       "'Tushar'"
      ]
     },
     "execution_count": 43,
     "metadata": {},
     "output_type": "execute_result"
    }
   ],
   "source": [
    "name.title()"
   ]
  },
  {
   "cell_type": "code",
   "execution_count": 44,
   "id": "3b831112-2d40-4e7a-ae23-7589f41f2562",
   "metadata": {},
   "outputs": [
    {
     "data": {
      "text/plain": [
       "False"
      ]
     },
     "execution_count": 44,
     "metadata": {},
     "output_type": "execute_result"
    }
   ],
   "source": [
    "name.isupper()"
   ]
  },
  {
   "cell_type": "code",
   "execution_count": 45,
   "id": "8be41099-3a2a-4d1b-b3d7-cd4296d061ca",
   "metadata": {},
   "outputs": [
    {
     "data": {
      "text/plain": [
       "False"
      ]
     },
     "execution_count": 45,
     "metadata": {},
     "output_type": "execute_result"
    }
   ],
   "source": [
    "name.islower()"
   ]
  },
  {
   "cell_type": "code",
   "execution_count": 46,
   "id": "d4c125d7-c667-46ea-b706-3d50fc67089e",
   "metadata": {},
   "outputs": [
    {
     "data": {
      "text/plain": [
       "True"
      ]
     },
     "execution_count": 46,
     "metadata": {},
     "output_type": "execute_result"
    }
   ],
   "source": [
    "name.istitle()"
   ]
  },
  {
   "cell_type": "code",
   "execution_count": 47,
   "id": "0f4f3a4d-1238-4c90-b627-934372df260e",
   "metadata": {},
   "outputs": [
    {
     "data": {
      "text/plain": [
       "True"
      ]
     },
     "execution_count": 47,
     "metadata": {},
     "output_type": "execute_result"
    }
   ],
   "source": [
    "name.isalpha()"
   ]
  },
  {
   "cell_type": "code",
   "execution_count": 48,
   "id": "2ef43426-7367-4f36-aa29-c950dca44692",
   "metadata": {},
   "outputs": [
    {
     "data": {
      "text/plain": [
       "True"
      ]
     },
     "execution_count": 48,
     "metadata": {},
     "output_type": "execute_result"
    }
   ],
   "source": [
    "name.endswith('r')"
   ]
  },
  {
   "cell_type": "code",
   "execution_count": 49,
   "id": "e55ce0e2-c783-4baf-a9d6-d20f037fe895",
   "metadata": {},
   "outputs": [
    {
     "data": {
      "text/plain": [
       "False"
      ]
     },
     "execution_count": 49,
     "metadata": {},
     "output_type": "execute_result"
    }
   ],
   "source": [
    "name.endswith('ra')"
   ]
  },
  {
   "cell_type": "code",
   "execution_count": 50,
   "id": "f5a4201d-1716-4b65-bb27-12cadeef0c45",
   "metadata": {},
   "outputs": [
    {
     "data": {
      "text/plain": [
       "False"
      ]
     },
     "execution_count": 50,
     "metadata": {},
     "output_type": "execute_result"
    }
   ],
   "source": [
    "name.startswith('t')"
   ]
  },
  {
   "cell_type": "code",
   "execution_count": 51,
   "id": "15575192-56c2-4ba1-a95d-a6b3ded27e35",
   "metadata": {},
   "outputs": [
    {
     "data": {
      "text/plain": [
       "'Tooshar'"
      ]
     },
     "execution_count": 51,
     "metadata": {},
     "output_type": "execute_result"
    }
   ],
   "source": [
    "name.replace('u','oo')"
   ]
  },
  {
   "cell_type": "code",
   "execution_count": 52,
   "id": "59409148-591b-419a-9f49-12089be926e9",
   "metadata": {},
   "outputs": [],
   "source": [
    "name = \"Tushar\""
   ]
  },
  {
   "cell_type": "code",
   "execution_count": 53,
   "id": "ef77e3bc-5033-401c-9b09-9114cf8842d6",
   "metadata": {},
   "outputs": [
    {
     "name": "stdout",
     "output_type": "stream",
     "text": [
      "Tushar\n"
     ]
    }
   ],
   "source": [
    "print(name)"
   ]
  },
  {
   "cell_type": "code",
   "execution_count": 54,
   "id": "e744d774-df4b-4aaa-a6e8-3bd741ffbf3a",
   "metadata": {},
   "outputs": [
    {
     "name": "stdout",
     "output_type": "stream",
     "text": [
      "I like \"Python\" Programming.\n"
     ]
    }
   ],
   "source": [
    "text = 'I like \"Python\" Programming.'\n",
    "print(text)"
   ]
  },
  {
   "cell_type": "code",
   "execution_count": 56,
   "id": "0ad5ac3f-6cd2-495c-ab86-4cf9772f9fd5",
   "metadata": {},
   "outputs": [
    {
     "name": "stdout",
     "output_type": "stream",
     "text": [
      "I like 'Python' Programming.\n"
     ]
    }
   ],
   "source": [
    "text = \"I like 'Python' Programming.\"\n",
    "print(text)"
   ]
  },
  {
   "cell_type": "code",
   "execution_count": 57,
   "id": "08949b1e-30e4-42f6-9d08-5e76037ca94a",
   "metadata": {},
   "outputs": [],
   "source": [
    "text = '''Hello friends,\n",
    "How are you?\n",
    "Welcome to Python'''"
   ]
  },
  {
   "cell_type": "code",
   "execution_count": 58,
   "id": "00273b2d-bad2-46a2-9083-ca61fb184e39",
   "metadata": {},
   "outputs": [
    {
     "name": "stdout",
     "output_type": "stream",
     "text": [
      "Hello friends,\n",
      "How are you?\n",
      "Welcome to Python\n"
     ]
    }
   ],
   "source": [
    "print(text)"
   ]
  },
  {
   "cell_type": "code",
   "execution_count": 60,
   "id": "a7bf5366-bd63-4d4c-8eb7-6f326c516fe7",
   "metadata": {},
   "outputs": [
    {
     "name": "stdout",
     "output_type": "stream",
     "text": [
      "Hello friends,\n",
      "How are you?\n",
      "Welcome to Python\n"
     ]
    }
   ],
   "source": [
    "# It will print my text on screen\n",
    "print(text)   # This is print statement"
   ]
  },
  {
   "cell_type": "code",
   "execution_count": 62,
   "id": "62abea54-594d-4a2b-8973-ac328e295734",
   "metadata": {},
   "outputs": [],
   "source": [
    "# pass = 45"
   ]
  },
  {
   "cell_type": "markdown",
   "id": "26a4f7ec-33d0-441f-a883-9aec694fda55",
   "metadata": {},
   "source": [
    "##### Escape Sequences"
   ]
  },
  {
   "cell_type": "code",
   "execution_count": 63,
   "id": "59da751e-efa9-4239-b801-828bc30a838a",
   "metadata": {},
   "outputs": [
    {
     "name": "stdout",
     "output_type": "stream",
     "text": [
      "Hello World\n"
     ]
    }
   ],
   "source": [
    "print('Hello World')"
   ]
  },
  {
   "cell_type": "code",
   "execution_count": 64,
   "id": "f28647b4-fcb9-477d-b812-e8bb662fd7b3",
   "metadata": {},
   "outputs": [
    {
     "name": "stdout",
     "output_type": "stream",
     "text": [
      "Hello\n",
      "World\n"
     ]
    }
   ],
   "source": [
    "# new line\n",
    "print('Hello\\nWorld')"
   ]
  },
  {
   "cell_type": "code",
   "execution_count": 65,
   "id": "dcb1b783-cd43-4266-8620-cab5b742d135",
   "metadata": {},
   "outputs": [
    {
     "name": "stdout",
     "output_type": "stream",
     "text": [
      "Hello\tWorld\n"
     ]
    }
   ],
   "source": [
    "# tab\n",
    "print('Hello\\tWorld')"
   ]
  },
  {
   "cell_type": "code",
   "execution_count": 66,
   "id": "2b6f7c3b-a80d-466a-8f1f-2880c9120406",
   "metadata": {},
   "outputs": [
    {
     "name": "stdout",
     "output_type": "stream",
     "text": [
      "Hello\\World\n"
     ]
    }
   ],
   "source": [
    "# new line\n",
    "print('Hello\\\\World')"
   ]
  },
  {
   "cell_type": "code",
   "execution_count": 67,
   "id": "709b0a57-8b27-492a-98c4-ea5d9b5af21c",
   "metadata": {},
   "outputs": [
    {
     "name": "stdout",
     "output_type": "stream",
     "text": [
      "Hello'World\n"
     ]
    }
   ],
   "source": [
    "# new line\n",
    "print('Hello\\'World')"
   ]
  },
  {
   "cell_type": "code",
   "execution_count": 71,
   "id": "ae645ed4-29f5-4008-9eb1-7a83a318d862",
   "metadata": {},
   "outputs": [
    {
     "name": "stdout",
     "output_type": "stream",
     "text": [
      "World\n"
     ]
    }
   ],
   "source": [
    "# carriage return\n",
    "print('Hello\\rWorld')"
   ]
  },
  {
   "cell_type": "code",
   "execution_count": 72,
   "id": "8f6d6131-18a0-4f86-94c5-1b07d10db214",
   "metadata": {},
   "outputs": [
    {
     "name": "stdout",
     "output_type": "stream",
     "text": [
      "HellWorld\n"
     ]
    }
   ],
   "source": [
    "# backspace\n",
    "print('Hello\\bWorld')"
   ]
  },
  {
   "cell_type": "code",
   "execution_count": 73,
   "id": "d4426ba6-a343-4a56-aeb7-501cb58c671d",
   "metadata": {},
   "outputs": [
    {
     "data": {
      "text/plain": [
       "6"
      ]
     },
     "execution_count": 73,
     "metadata": {},
     "output_type": "execute_result"
    }
   ],
   "source": [
    "len(name)"
   ]
  },
  {
   "cell_type": "code",
   "execution_count": 74,
   "id": "8624f815-5e42-46f3-a242-22d890a2f08b",
   "metadata": {},
   "outputs": [
    {
     "data": {
      "text/plain": [
       "['__add__',\n",
       " '__class__',\n",
       " '__contains__',\n",
       " '__delattr__',\n",
       " '__dir__',\n",
       " '__doc__',\n",
       " '__eq__',\n",
       " '__format__',\n",
       " '__ge__',\n",
       " '__getattribute__',\n",
       " '__getitem__',\n",
       " '__getnewargs__',\n",
       " '__gt__',\n",
       " '__hash__',\n",
       " '__init__',\n",
       " '__init_subclass__',\n",
       " '__iter__',\n",
       " '__le__',\n",
       " '__len__',\n",
       " '__lt__',\n",
       " '__mod__',\n",
       " '__mul__',\n",
       " '__ne__',\n",
       " '__new__',\n",
       " '__reduce__',\n",
       " '__reduce_ex__',\n",
       " '__repr__',\n",
       " '__rmod__',\n",
       " '__rmul__',\n",
       " '__setattr__',\n",
       " '__sizeof__',\n",
       " '__str__',\n",
       " '__subclasshook__',\n",
       " 'capitalize',\n",
       " 'casefold',\n",
       " 'center',\n",
       " 'count',\n",
       " 'encode',\n",
       " 'endswith',\n",
       " 'expandtabs',\n",
       " 'find',\n",
       " 'format',\n",
       " 'format_map',\n",
       " 'index',\n",
       " 'isalnum',\n",
       " 'isalpha',\n",
       " 'isascii',\n",
       " 'isdecimal',\n",
       " 'isdigit',\n",
       " 'isidentifier',\n",
       " 'islower',\n",
       " 'isnumeric',\n",
       " 'isprintable',\n",
       " 'isspace',\n",
       " 'istitle',\n",
       " 'isupper',\n",
       " 'join',\n",
       " 'ljust',\n",
       " 'lower',\n",
       " 'lstrip',\n",
       " 'maketrans',\n",
       " 'partition',\n",
       " 'removeprefix',\n",
       " 'removesuffix',\n",
       " 'replace',\n",
       " 'rfind',\n",
       " 'rindex',\n",
       " 'rjust',\n",
       " 'rpartition',\n",
       " 'rsplit',\n",
       " 'rstrip',\n",
       " 'split',\n",
       " 'splitlines',\n",
       " 'startswith',\n",
       " 'strip',\n",
       " 'swapcase',\n",
       " 'title',\n",
       " 'translate',\n",
       " 'upper',\n",
       " 'zfill']"
      ]
     },
     "execution_count": 74,
     "metadata": {},
     "output_type": "execute_result"
    }
   ],
   "source": [
    "dir(name)"
   ]
  },
  {
   "cell_type": "code",
   "execution_count": 75,
   "id": "e550b563-eb3c-448c-8dda-aa8594238d6c",
   "metadata": {},
   "outputs": [
    {
     "name": "stdout",
     "output_type": "stream",
     "text": [
      "Help on built-in function lstrip:\n",
      "\n",
      "lstrip(chars=None, /) method of builtins.str instance\n",
      "    Return a copy of the string with leading whitespace removed.\n",
      "    \n",
      "    If chars is given and not None, remove characters in chars instead.\n",
      "\n"
     ]
    }
   ],
   "source": [
    "help(name.lstrip)"
   ]
  },
  {
   "cell_type": "code",
   "execution_count": 76,
   "id": "755fdb82-568a-4cce-a77c-7749b5be44b8",
   "metadata": {},
   "outputs": [
    {
     "name": "stdout",
     "output_type": "stream",
     "text": [
      "Help on built-in function find:\n",
      "\n",
      "find(...) method of builtins.str instance\n",
      "    S.find(sub[, start[, end]]) -> int\n",
      "    \n",
      "    Return the lowest index in S where substring sub is found,\n",
      "    such that sub is contained within S[start:end].  Optional\n",
      "    arguments start and end are interpreted as in slice notation.\n",
      "    \n",
      "    Return -1 on failure.\n",
      "\n"
     ]
    }
   ],
   "source": [
    "help(name.find)"
   ]
  },
  {
   "cell_type": "code",
   "execution_count": 77,
   "id": "7280df40-584c-4a17-a25c-f8772db0e465",
   "metadata": {},
   "outputs": [
    {
     "name": "stdout",
     "output_type": "stream",
     "text": [
      "Help on built-in function len in module builtins:\n",
      "\n",
      "len(obj, /)\n",
      "    Return the number of items in a container.\n",
      "\n"
     ]
    }
   ],
   "source": [
    "help(len)"
   ]
  },
  {
   "cell_type": "markdown",
   "id": "250f0b8e-7edb-4ad0-8886-56af3e9a5d7c",
   "metadata": {},
   "source": [
    "##### Print function"
   ]
  },
  {
   "cell_type": "code",
   "execution_count": 79,
   "id": "44501d01-785d-4867-9e99-ed291997f2dc",
   "metadata": {},
   "outputs": [],
   "source": [
    "name = 'Tushar'\n",
    "marks = 67.89"
   ]
  },
  {
   "cell_type": "code",
   "execution_count": 80,
   "id": "8d001ba7-86c7-4d85-855e-5fc25925aff9",
   "metadata": {},
   "outputs": [
    {
     "name": "stdout",
     "output_type": "stream",
     "text": [
      "My name is Tushar and marks are 67.89\n"
     ]
    }
   ],
   "source": [
    "print('My name is',name,'and marks are',marks)"
   ]
  },
  {
   "cell_type": "code",
   "execution_count": 81,
   "id": "3176a9b4-122f-4b22-a585-d15a18577396",
   "metadata": {},
   "outputs": [
    {
     "name": "stdout",
     "output_type": "stream",
     "text": [
      "My name is Tushar and marks are 67\n"
     ]
    }
   ],
   "source": [
    "# Formatted\n",
    "print('My name is %s and marks are %i' %(name,marks))"
   ]
  },
  {
   "cell_type": "code",
   "execution_count": 82,
   "id": "27c0024a-31ce-4b8d-9f6b-9b87be1b6e43",
   "metadata": {},
   "outputs": [
    {
     "name": "stdout",
     "output_type": "stream",
     "text": [
      "My name is Tushar and marks are 67.890000\n"
     ]
    }
   ],
   "source": [
    "print('My name is %s and marks are %f' %(name,marks))"
   ]
  },
  {
   "cell_type": "code",
   "execution_count": 83,
   "id": "340eebdd-b105-488e-afd1-80846481cdab",
   "metadata": {},
   "outputs": [
    {
     "name": "stdout",
     "output_type": "stream",
     "text": [
      "My name is Tushar and marks are 67.89\n"
     ]
    }
   ],
   "source": [
    "print('My name is %s and marks are %.2f' %(name,marks))"
   ]
  },
  {
   "cell_type": "code",
   "execution_count": 85,
   "id": "a43abbd0-5605-4952-8550-c1526e674102",
   "metadata": {},
   "outputs": [
    {
     "name": "stdout",
     "output_type": "stream",
     "text": [
      "Tushar 67.89 Pune\n"
     ]
    }
   ],
   "source": [
    "print(name,marks,city)"
   ]
  },
  {
   "cell_type": "code",
   "execution_count": 86,
   "id": "97ed38d6-d605-4f41-95ff-a13109bf84c7",
   "metadata": {},
   "outputs": [
    {
     "name": "stdout",
     "output_type": "stream",
     "text": [
      "Tushar\n",
      "67.89\n",
      "Pune\n"
     ]
    }
   ],
   "source": [
    "print(name,marks,city,sep='\\n')"
   ]
  },
  {
   "cell_type": "code",
   "execution_count": 89,
   "id": "41f10ddc-1abe-4fb4-90ad-672e7c6c9919",
   "metadata": {},
   "outputs": [
    {
     "name": "stdout",
     "output_type": "stream",
     "text": [
      "Tushar 67.89 Pune\n"
     ]
    }
   ],
   "source": [
    "print(name, end=' ')\n",
    "print(marks, end=' ')\n",
    "print(city)"
   ]
  },
  {
   "cell_type": "markdown",
   "id": "e8c7454d-0d43-444b-8136-e9716b427fd1",
   "metadata": {},
   "source": [
    "##### Arithmetic Operators"
   ]
  },
  {
   "cell_type": "code",
   "execution_count": 92,
   "id": "8ca951e0-7f90-444f-9139-67b28aa026ed",
   "metadata": {},
   "outputs": [],
   "source": [
    "num1 = 56\n",
    "num2 = 23"
   ]
  },
  {
   "cell_type": "code",
   "execution_count": 95,
   "id": "d5b8a2bd-f255-4790-a279-d0f4765f5e7a",
   "metadata": {},
   "outputs": [
    {
     "name": "stdout",
     "output_type": "stream",
     "text": [
      "Addition: 79\n",
      "Subtraction: 33\n",
      "Multiplication: 1288\n",
      "Division: 2.4347826086956523\n",
      "Floor Division: 2\n",
      "Modulo Division: 10\n",
      "Power of: 16155656889615734329398214425629966729216\n"
     ]
    }
   ],
   "source": [
    "result = num1 + num2\n",
    "print('Addition:', result)\n",
    "print('Subtraction:', num1 - num2)\n",
    "print('Multiplication:', num1 * num2)\n",
    "print('Division:', num1 / num2)   # Float result\n",
    "print('Floor Division:', num1 // num2) # int result\n",
    "print('Modulo Division:', num1 % num2) # remainder of division\n",
    "print('Power of:', num1 ** num2)  # num1 raised to num2"
   ]
  },
  {
   "cell_type": "markdown",
   "id": "6cda1ae2-56cb-4841-a68e-ae9ddcde2e75",
   "metadata": {},
   "source": [
    "##### Assignment Operators"
   ]
  },
  {
   "cell_type": "code",
   "execution_count": 97,
   "id": "dc3c15bf-4f95-4b19-adcf-a67d243183ac",
   "metadata": {},
   "outputs": [
    {
     "data": {
      "text/plain": [
       "56"
      ]
     },
     "execution_count": 97,
     "metadata": {},
     "output_type": "execute_result"
    }
   ],
   "source": [
    "num1"
   ]
  },
  {
   "cell_type": "code",
   "execution_count": 98,
   "id": "409c2e97-5dff-40b8-a9cb-c2d01efd5425",
   "metadata": {},
   "outputs": [
    {
     "name": "stdout",
     "output_type": "stream",
     "text": [
      "66\n"
     ]
    }
   ],
   "source": [
    "num1 += 10   # num1 = num1 + 10\n",
    "print(num1)"
   ]
  },
  {
   "cell_type": "code",
   "execution_count": 99,
   "id": "5336d287-9139-4be5-bcd5-fb448f48f069",
   "metadata": {},
   "outputs": [
    {
     "data": {
      "text/plain": [
       "23"
      ]
     },
     "execution_count": 99,
     "metadata": {},
     "output_type": "execute_result"
    }
   ],
   "source": [
    "num2"
   ]
  },
  {
   "cell_type": "code",
   "execution_count": 100,
   "id": "20d84d9c-2d31-404b-af59-6db7cd250d29",
   "metadata": {},
   "outputs": [
    {
     "name": "stdout",
     "output_type": "stream",
     "text": [
      "18\n"
     ]
    }
   ],
   "source": [
    "num2 -= 5\n",
    "print(num2)"
   ]
  },
  {
   "cell_type": "markdown",
   "id": "12d65786-507a-4148-98c1-1452c3344731",
   "metadata": {},
   "source": [
    "##### Relational Operators"
   ]
  },
  {
   "cell_type": "code",
   "execution_count": 103,
   "id": "4be27f34-0d05-49df-80e4-a1157e8ede76",
   "metadata": {},
   "outputs": [
    {
     "data": {
      "text/plain": [
       "True"
      ]
     },
     "execution_count": 103,
     "metadata": {},
     "output_type": "execute_result"
    }
   ],
   "source": [
    "num1 > num2"
   ]
  },
  {
   "cell_type": "code",
   "execution_count": 104,
   "id": "fb8c02ee-42c6-426f-88a0-a8003434184a",
   "metadata": {},
   "outputs": [
    {
     "data": {
      "text/plain": [
       "True"
      ]
     },
     "execution_count": 104,
     "metadata": {},
     "output_type": "execute_result"
    }
   ],
   "source": [
    "num1 >= num2"
   ]
  },
  {
   "cell_type": "code",
   "execution_count": 105,
   "id": "50989821-2fe2-422b-ae61-f4f40600d6d5",
   "metadata": {},
   "outputs": [
    {
     "data": {
      "text/plain": [
       "False"
      ]
     },
     "execution_count": 105,
     "metadata": {},
     "output_type": "execute_result"
    }
   ],
   "source": [
    "num1 < num2"
   ]
  },
  {
   "cell_type": "code",
   "execution_count": 106,
   "id": "a0bd90ce-431c-472c-8007-1962c2c466e1",
   "metadata": {},
   "outputs": [
    {
     "data": {
      "text/plain": [
       "False"
      ]
     },
     "execution_count": 106,
     "metadata": {},
     "output_type": "execute_result"
    }
   ],
   "source": [
    "num1 <= num2"
   ]
  },
  {
   "cell_type": "code",
   "execution_count": 107,
   "id": "12e4f65d-3962-4ff2-a525-f7762ea1b569",
   "metadata": {},
   "outputs": [
    {
     "data": {
      "text/plain": [
       "False"
      ]
     },
     "execution_count": 107,
     "metadata": {},
     "output_type": "execute_result"
    }
   ],
   "source": [
    "num1 == num2"
   ]
  },
  {
   "cell_type": "code",
   "execution_count": 108,
   "id": "b513aeca-d311-4b59-97f5-5c92bfa9e775",
   "metadata": {},
   "outputs": [
    {
     "data": {
      "text/plain": [
       "True"
      ]
     },
     "execution_count": 108,
     "metadata": {},
     "output_type": "execute_result"
    }
   ],
   "source": [
    "num1 != num2"
   ]
  },
  {
   "cell_type": "markdown",
   "id": "1c9fdb4e-a4a0-4a36-8146-fc65e9a71431",
   "metadata": {},
   "source": [
    "##### Logical Operators"
   ]
  },
  {
   "cell_type": "code",
   "execution_count": 110,
   "id": "7ec0d4cb-8cd7-44fd-b54b-07375af17bdc",
   "metadata": {},
   "outputs": [
    {
     "data": {
      "text/plain": [
       "(66, 18)"
      ]
     },
     "execution_count": 110,
     "metadata": {},
     "output_type": "execute_result"
    }
   ],
   "source": [
    "num1, num2"
   ]
  },
  {
   "cell_type": "code",
   "execution_count": 112,
   "id": "28ecf8a3-e0dc-41ac-84d4-9cffd6611f17",
   "metadata": {},
   "outputs": [
    {
     "data": {
      "text/plain": [
       "True"
      ]
     },
     "execution_count": 112,
     "metadata": {},
     "output_type": "execute_result"
    }
   ],
   "source": [
    "num1 > num2 and num2 < 100"
   ]
  },
  {
   "cell_type": "code",
   "execution_count": 113,
   "id": "3dfd1a49-bc22-40f6-a876-bbf50401c066",
   "metadata": {},
   "outputs": [
    {
     "data": {
      "text/plain": [
       "False"
      ]
     },
     "execution_count": 113,
     "metadata": {},
     "output_type": "execute_result"
    }
   ],
   "source": [
    "num1 > num2 and num2 > 100"
   ]
  },
  {
   "cell_type": "code",
   "execution_count": 114,
   "id": "9f465788-ae9a-4ec6-8715-5422b306e996",
   "metadata": {},
   "outputs": [
    {
     "data": {
      "text/plain": [
       "True"
      ]
     },
     "execution_count": 114,
     "metadata": {},
     "output_type": "execute_result"
    }
   ],
   "source": [
    "num1 > num2 or num2 > 100"
   ]
  },
  {
   "cell_type": "code",
   "execution_count": 115,
   "id": "67cc8a67-4410-46a2-8e3c-a5624460067e",
   "metadata": {},
   "outputs": [
    {
     "data": {
      "text/plain": [
       "False"
      ]
     },
     "execution_count": 115,
     "metadata": {},
     "output_type": "execute_result"
    }
   ],
   "source": [
    "num1 < num2 or num2 > 100"
   ]
  },
  {
   "cell_type": "code",
   "execution_count": 116,
   "id": "01526128-f2c5-4f3a-9763-a547d13f2e42",
   "metadata": {},
   "outputs": [
    {
     "data": {
      "text/plain": [
       "True"
      ]
     },
     "execution_count": 116,
     "metadata": {},
     "output_type": "execute_result"
    }
   ],
   "source": [
    "num1 < 100"
   ]
  },
  {
   "cell_type": "code",
   "execution_count": 117,
   "id": "e29a6530-23bd-4498-a7dd-5e0f40ae2121",
   "metadata": {},
   "outputs": [
    {
     "data": {
      "text/plain": [
       "False"
      ]
     },
     "execution_count": 117,
     "metadata": {},
     "output_type": "execute_result"
    }
   ],
   "source": [
    "not num1 < 100"
   ]
  },
  {
   "cell_type": "markdown",
   "id": "cd42acb3-ef04-46b2-b80a-df8ed89c3911",
   "metadata": {},
   "source": [
    "##### Membership Selection "
   ]
  },
  {
   "cell_type": "code",
   "execution_count": 120,
   "id": "3e084603-a8b7-4acf-9bc6-5e59d71f02db",
   "metadata": {},
   "outputs": [
    {
     "data": {
      "text/plain": [
       "'Tushar'"
      ]
     },
     "execution_count": 120,
     "metadata": {},
     "output_type": "execute_result"
    }
   ],
   "source": [
    "name"
   ]
  },
  {
   "cell_type": "code",
   "execution_count": 121,
   "id": "b89774f6-85d2-4d45-8421-ee32f24f5372",
   "metadata": {},
   "outputs": [
    {
     "data": {
      "text/plain": [
       "True"
      ]
     },
     "execution_count": 121,
     "metadata": {},
     "output_type": "execute_result"
    }
   ],
   "source": [
    "'u' in name "
   ]
  },
  {
   "cell_type": "code",
   "execution_count": 122,
   "id": "110b6b46-a1c1-4cf2-ac6c-319f9d90cb6e",
   "metadata": {},
   "outputs": [
    {
     "data": {
      "text/plain": [
       "False"
      ]
     },
     "execution_count": 122,
     "metadata": {},
     "output_type": "execute_result"
    }
   ],
   "source": [
    "'A' in name"
   ]
  },
  {
   "cell_type": "code",
   "execution_count": 123,
   "id": "061fdf43-4824-4766-ae97-087e344476d6",
   "metadata": {},
   "outputs": [
    {
     "data": {
      "text/plain": [
       "True"
      ]
     },
     "execution_count": 123,
     "metadata": {},
     "output_type": "execute_result"
    }
   ],
   "source": [
    "'A' not in name"
   ]
  },
  {
   "cell_type": "markdown",
   "id": "6ecba9fc-32ec-4195-840f-95ad5d0a3dda",
   "metadata": {},
   "source": [
    "##### Type Conversion / Type Casting"
   ]
  },
  {
   "cell_type": "code",
   "execution_count": 128,
   "id": "b49a289d-1919-4ec1-841c-407bd9141a6b",
   "metadata": {},
   "outputs": [],
   "source": [
    "num1 = 56.34\n",
    "num2 = 23"
   ]
  },
  {
   "cell_type": "code",
   "execution_count": 129,
   "id": "5d265126-98bc-4072-a693-52b8a59e8534",
   "metadata": {},
   "outputs": [],
   "source": [
    "result = num1 + num2"
   ]
  },
  {
   "cell_type": "code",
   "execution_count": 130,
   "id": "d04ad394-805c-41cc-9850-c2e1cb0b76fd",
   "metadata": {},
   "outputs": [
    {
     "data": {
      "text/plain": [
       "79.34"
      ]
     },
     "execution_count": 130,
     "metadata": {},
     "output_type": "execute_result"
    }
   ],
   "source": [
    "result"
   ]
  },
  {
   "cell_type": "code",
   "execution_count": 131,
   "id": "43500672-e131-4baf-bb63-ef7abb95879e",
   "metadata": {},
   "outputs": [
    {
     "name": "stdout",
     "output_type": "stream",
     "text": [
      "79\n"
     ]
    }
   ],
   "source": [
    "result = int(num1) + num2\n",
    "print(result)"
   ]
  },
  {
   "cell_type": "code",
   "execution_count": 132,
   "id": "1784ea7e-482d-4893-80e8-1cda1737d0d3",
   "metadata": {},
   "outputs": [],
   "source": [
    "num = '123'"
   ]
  },
  {
   "cell_type": "code",
   "execution_count": 133,
   "id": "8631fb34-e5e1-4ef2-a822-21f008c8808a",
   "metadata": {},
   "outputs": [
    {
     "data": {
      "text/plain": [
       "'123123123'"
      ]
     },
     "execution_count": 133,
     "metadata": {},
     "output_type": "execute_result"
    }
   ],
   "source": [
    "num * 3"
   ]
  },
  {
   "cell_type": "code",
   "execution_count": 134,
   "id": "9e1932cc-1952-4a47-a6b5-628b57702b35",
   "metadata": {},
   "outputs": [
    {
     "data": {
      "text/plain": [
       "369"
      ]
     },
     "execution_count": 134,
     "metadata": {},
     "output_type": "execute_result"
    }
   ],
   "source": [
    "int(num) * 3"
   ]
  },
  {
   "cell_type": "code",
   "execution_count": 135,
   "id": "9cc8d9af-9d39-4a1d-8823-b2a492725430",
   "metadata": {},
   "outputs": [
    {
     "data": {
      "text/plain": [
       "'Tushar'"
      ]
     },
     "execution_count": 135,
     "metadata": {},
     "output_type": "execute_result"
    }
   ],
   "source": [
    "name"
   ]
  },
  {
   "cell_type": "code",
   "execution_count": 136,
   "id": "4eb9de13-1a59-4abe-9a34-adaa942395cf",
   "metadata": {},
   "outputs": [
    {
     "data": {
      "text/plain": [
       "67.89"
      ]
     },
     "execution_count": 136,
     "metadata": {},
     "output_type": "execute_result"
    }
   ],
   "source": [
    "marks"
   ]
  },
  {
   "cell_type": "code",
   "execution_count": 137,
   "id": "1103bdd7-afaf-461c-be7f-fa54e6ee5652",
   "metadata": {},
   "outputs": [
    {
     "ename": "TypeError",
     "evalue": "can only concatenate str (not \"float\") to str",
     "output_type": "error",
     "traceback": [
      "\u001b[0;31m---------------------------------------------------------------------------\u001b[0m",
      "\u001b[0;31mTypeError\u001b[0m                                 Traceback (most recent call last)",
      "Cell \u001b[0;32mIn[137], line 1\u001b[0m\n\u001b[0;32m----> 1\u001b[0m password \u001b[38;5;241m=\u001b[39m \u001b[43mname\u001b[49m\u001b[43m \u001b[49m\u001b[38;5;241;43m+\u001b[39;49m\u001b[43m \u001b[49m\u001b[43mmarks\u001b[49m\n",
      "\u001b[0;31mTypeError\u001b[0m: can only concatenate str (not \"float\") to str"
     ]
    }
   ],
   "source": [
    "password = name + marks"
   ]
  },
  {
   "cell_type": "code",
   "execution_count": 138,
   "id": "4a8debc0-465d-4b85-aa13-c4c3b25535fa",
   "metadata": {},
   "outputs": [
    {
     "data": {
      "text/plain": [
       "'Tushar67.89'"
      ]
     },
     "execution_count": 138,
     "metadata": {},
     "output_type": "execute_result"
    }
   ],
   "source": [
    "password = name + str(marks)\n",
    "password"
   ]
  },
  {
   "cell_type": "markdown",
   "id": "5beb4b99-befe-428e-ae57-e1e5f35f374d",
   "metadata": {},
   "source": [
    "##### Read the data from user / keyboard"
   ]
  },
  {
   "cell_type": "code",
   "execution_count": 140,
   "id": "43cc23e4-5153-4445-b393-8953a679bdf7",
   "metadata": {},
   "outputs": [
    {
     "name": "stdin",
     "output_type": "stream",
     "text": [
      "Enter the number:  78\n"
     ]
    }
   ],
   "source": [
    "num = input('Enter the number: ')"
   ]
  },
  {
   "cell_type": "code",
   "execution_count": 141,
   "id": "73455023-771f-48ad-9f47-e316cae3ea48",
   "metadata": {},
   "outputs": [
    {
     "data": {
      "text/plain": [
       "'78'"
      ]
     },
     "execution_count": 141,
     "metadata": {},
     "output_type": "execute_result"
    }
   ],
   "source": [
    "num"
   ]
  },
  {
   "cell_type": "code",
   "execution_count": 142,
   "id": "8790c839-4bca-4a8c-a16c-96a0be212084",
   "metadata": {},
   "outputs": [
    {
     "name": "stdin",
     "output_type": "stream",
     "text": [
      "Enter the number:  78\n"
     ]
    },
    {
     "name": "stdout",
     "output_type": "stream",
     "text": [
      "You entered: 78\n"
     ]
    }
   ],
   "source": [
    "num = int(input('Enter the number: '))\n",
    "print('You entered:', num)"
   ]
  },
  {
   "cell_type": "code",
   "execution_count": 143,
   "id": "818945ef-e9d2-4e00-82ba-d240da92a95e",
   "metadata": {},
   "outputs": [
    {
     "name": "stdin",
     "output_type": "stream",
     "text": [
      "Enter first number:  78\n",
      "Enter second number:  22\n"
     ]
    },
    {
     "name": "stdout",
     "output_type": "stream",
     "text": [
      "Addition is: 100\n"
     ]
    }
   ],
   "source": [
    "num1 = int(input('Enter first number: '))\n",
    "num2 = int(input('Enter second number: '))\n",
    "add = num1 + num2\n",
    "print('Addition is:', add)"
   ]
  },
  {
   "cell_type": "code",
   "execution_count": 144,
   "id": "44c68f4c-0c90-437c-a07c-f4d30a4e1835",
   "metadata": {},
   "outputs": [
    {
     "name": "stdin",
     "output_type": "stream",
     "text": [
      "Enter first number:  45\n",
      "Enter second number:  55\n"
     ]
    },
    {
     "name": "stdout",
     "output_type": "stream",
     "text": [
      "Addition of 45 and 55 is: 100\n"
     ]
    }
   ],
   "source": [
    "num1 = int(input('Enter first number: '))\n",
    "num2 = int(input('Enter second number: '))\n",
    "add = num1 + num2\n",
    "print('Addition of',num1,'and',num2,'is:',add)"
   ]
  },
  {
   "cell_type": "code",
   "execution_count": null,
   "id": "eb03207a-ba48-416e-ae6d-e80005d8dff8",
   "metadata": {},
   "outputs": [],
   "source": []
  }
 ],
 "metadata": {
  "kernelspec": {
   "display_name": "Python 3 (ipykernel)",
   "language": "python",
   "name": "python3"
  },
  "language_info": {
   "codemirror_mode": {
    "name": "ipython",
    "version": 3
   },
   "file_extension": ".py",
   "mimetype": "text/x-python",
   "name": "python",
   "nbconvert_exporter": "python",
   "pygments_lexer": "ipython3",
   "version": "3.10.12"
  }
 },
 "nbformat": 4,
 "nbformat_minor": 5
}
