{
 "cells": [
  {
   "cell_type": "markdown",
   "id": "c0739606",
   "metadata": {},
   "source": [
    "## List"
   ]
  },
  {
   "cell_type": "code",
   "execution_count": 1,
   "id": "c6e9c995",
   "metadata": {},
   "outputs": [],
   "source": [
    "# declare a list\n",
    "\n",
    "num = [12, 14, 32, 24, 45, 57]"
   ]
  },
  {
   "cell_type": "code",
   "execution_count": 2,
   "id": "e09e650f",
   "metadata": {},
   "outputs": [
    {
     "data": {
      "text/plain": [
       "list"
      ]
     },
     "execution_count": 2,
     "metadata": {},
     "output_type": "execute_result"
    }
   ],
   "source": [
    "type(num)"
   ]
  },
  {
   "cell_type": "code",
   "execution_count": 3,
   "id": "6546004c",
   "metadata": {},
   "outputs": [],
   "source": [
    "mydata = [12, 34.77, 'Adi', True, 'Pune']   # heterogeneous"
   ]
  },
  {
   "cell_type": "code",
   "execution_count": 4,
   "id": "950379a8",
   "metadata": {},
   "outputs": [
    {
     "data": {
      "text/plain": [
       "list"
      ]
     },
     "execution_count": 4,
     "metadata": {},
     "output_type": "execute_result"
    }
   ],
   "source": [
    "type(mydata)"
   ]
  },
  {
   "cell_type": "code",
   "execution_count": 5,
   "id": "5070d8d3",
   "metadata": {},
   "outputs": [
    {
     "data": {
      "text/plain": [
       "34.77"
      ]
     },
     "execution_count": 5,
     "metadata": {},
     "output_type": "execute_result"
    }
   ],
   "source": [
    "# lists are ordered\n",
    "# indexing starts from 0\n",
    "\n",
    "mydata[1]"
   ]
  },
  {
   "cell_type": "code",
   "execution_count": 6,
   "id": "ae05b09a",
   "metadata": {},
   "outputs": [
    {
     "data": {
      "text/plain": [
       "12"
      ]
     },
     "execution_count": 6,
     "metadata": {},
     "output_type": "execute_result"
    }
   ],
   "source": [
    "mydata[0]"
   ]
  },
  {
   "cell_type": "code",
   "execution_count": 8,
   "id": "e549e51b",
   "metadata": {},
   "outputs": [
    {
     "data": {
      "text/plain": [
       "'Pune'"
      ]
     },
     "execution_count": 8,
     "metadata": {},
     "output_type": "execute_result"
    }
   ],
   "source": [
    "mydata[-1] # negative indexing starts from -1"
   ]
  },
  {
   "cell_type": "code",
   "execution_count": 9,
   "id": "abaae3c2",
   "metadata": {},
   "outputs": [
    {
     "data": {
      "text/plain": [
       "12"
      ]
     },
     "execution_count": 9,
     "metadata": {},
     "output_type": "execute_result"
    }
   ],
   "source": [
    "mydata[-5]"
   ]
  },
  {
   "cell_type": "markdown",
   "id": "9dd707f8",
   "metadata": {},
   "source": [
    "#### replace the data"
   ]
  },
  {
   "cell_type": "code",
   "execution_count": 10,
   "id": "e6db5aa3",
   "metadata": {},
   "outputs": [
    {
     "data": {
      "text/plain": [
       "[12, 14, 32, 24, 45, 57]"
      ]
     },
     "execution_count": 10,
     "metadata": {},
     "output_type": "execute_result"
    }
   ],
   "source": [
    "num"
   ]
  },
  {
   "cell_type": "code",
   "execution_count": 11,
   "id": "bf785ce2",
   "metadata": {},
   "outputs": [],
   "source": [
    "num[1] = 70"
   ]
  },
  {
   "cell_type": "code",
   "execution_count": 12,
   "id": "eead0156",
   "metadata": {},
   "outputs": [
    {
     "data": {
      "text/plain": [
       "[12, 70, 32, 24, 45, 57]"
      ]
     },
     "execution_count": 12,
     "metadata": {},
     "output_type": "execute_result"
    }
   ],
   "source": [
    "num   # lists are mutable"
   ]
  },
  {
   "cell_type": "code",
   "execution_count": 13,
   "id": "c5fbe1ae",
   "metadata": {},
   "outputs": [],
   "source": [
    "num[-3] = 50"
   ]
  },
  {
   "cell_type": "code",
   "execution_count": 14,
   "id": "d730b9ce",
   "metadata": {},
   "outputs": [
    {
     "data": {
      "text/plain": [
       "[12, 70, 32, 50, 45, 57]"
      ]
     },
     "execution_count": 14,
     "metadata": {},
     "output_type": "execute_result"
    }
   ],
   "source": [
    "num"
   ]
  },
  {
   "cell_type": "markdown",
   "id": "37d00f61",
   "metadata": {},
   "source": [
    "#### slicing of list"
   ]
  },
  {
   "cell_type": "code",
   "execution_count": 16,
   "id": "7cde4dd7",
   "metadata": {},
   "outputs": [
    {
     "data": {
      "text/plain": [
       "[70, 32, 50]"
      ]
     },
     "execution_count": 16,
     "metadata": {},
     "output_type": "execute_result"
    }
   ],
   "source": [
    "num[1:4]"
   ]
  },
  {
   "cell_type": "code",
   "execution_count": 17,
   "id": "77a84376",
   "metadata": {},
   "outputs": [
    {
     "data": {
      "text/plain": [
       "[70, 32, 50]"
      ]
     },
     "execution_count": 17,
     "metadata": {},
     "output_type": "execute_result"
    }
   ],
   "source": [
    "x = num[1:4]\n",
    "x"
   ]
  },
  {
   "cell_type": "code",
   "execution_count": 18,
   "id": "ff6ec9a3",
   "metadata": {},
   "outputs": [
    {
     "data": {
      "text/plain": [
       "[12, 70, 32, 50, 45, 57]"
      ]
     },
     "execution_count": 18,
     "metadata": {},
     "output_type": "execute_result"
    }
   ],
   "source": [
    "num"
   ]
  },
  {
   "cell_type": "code",
   "execution_count": 20,
   "id": "f905f697",
   "metadata": {},
   "outputs": [
    {
     "data": {
      "text/plain": [
       "[70, 32, 50, 45, 57]"
      ]
     },
     "execution_count": 20,
     "metadata": {},
     "output_type": "execute_result"
    }
   ],
   "source": [
    "num[1:]"
   ]
  },
  {
   "cell_type": "code",
   "execution_count": 21,
   "id": "8aabb249",
   "metadata": {},
   "outputs": [
    {
     "data": {
      "text/plain": [
       "[12, 70, 32, 50]"
      ]
     },
     "execution_count": 21,
     "metadata": {},
     "output_type": "execute_result"
    }
   ],
   "source": [
    "num[:4]"
   ]
  },
  {
   "cell_type": "code",
   "execution_count": 23,
   "id": "5e73dd73",
   "metadata": {},
   "outputs": [
    {
     "data": {
      "text/plain": [
       "[12, 32, 45]"
      ]
     },
     "execution_count": 23,
     "metadata": {},
     "output_type": "execute_result"
    }
   ],
   "source": [
    "num[0:6:2]   # start, end, steps"
   ]
  },
  {
   "cell_type": "code",
   "execution_count": 24,
   "id": "4ba5f00d",
   "metadata": {},
   "outputs": [
    {
     "data": {
      "text/plain": [
       "[12, 32, 45]"
      ]
     },
     "execution_count": 24,
     "metadata": {},
     "output_type": "execute_result"
    }
   ],
   "source": [
    "num[0::2]"
   ]
  },
  {
   "cell_type": "markdown",
   "id": "f5c32d88",
   "metadata": {},
   "source": [
    "#### replace with slicing"
   ]
  },
  {
   "cell_type": "code",
   "execution_count": 25,
   "id": "3ddc581d",
   "metadata": {},
   "outputs": [
    {
     "data": {
      "text/plain": [
       "[12, 70, 32, 50, 45, 57]"
      ]
     },
     "execution_count": 25,
     "metadata": {},
     "output_type": "execute_result"
    }
   ],
   "source": [
    "num"
   ]
  },
  {
   "cell_type": "code",
   "execution_count": 26,
   "id": "df20f8f8",
   "metadata": {},
   "outputs": [
    {
     "data": {
      "text/plain": [
       "[32, 50, 45]"
      ]
     },
     "execution_count": 26,
     "metadata": {},
     "output_type": "execute_result"
    }
   ],
   "source": [
    "num[2:5]"
   ]
  },
  {
   "cell_type": "code",
   "execution_count": 30,
   "id": "98f8b422",
   "metadata": {
    "scrolled": true
   },
   "outputs": [
    {
     "data": {
      "text/plain": [
       "[12, 23, 45, 47, 51, 61, 29]"
      ]
     },
     "execution_count": 30,
     "metadata": {},
     "output_type": "execute_result"
    }
   ],
   "source": [
    "num[2:5] = [45, 47, 51]\n",
    "num"
   ]
  },
  {
   "cell_type": "markdown",
   "id": "2e2f0d2f",
   "metadata": {},
   "source": [
    "#### delete the data"
   ]
  },
  {
   "cell_type": "code",
   "execution_count": 33,
   "id": "b28ebff3",
   "metadata": {},
   "outputs": [],
   "source": [
    "num = [12, 23, 43, 56, 43, 61, 29]   # duplicates are allowed"
   ]
  },
  {
   "cell_type": "code",
   "execution_count": 34,
   "id": "9b737972",
   "metadata": {},
   "outputs": [
    {
     "data": {
      "text/plain": [
       "[12, 23, 43, 56, 43, 61, 29]"
      ]
     },
     "execution_count": 34,
     "metadata": {},
     "output_type": "execute_result"
    }
   ],
   "source": [
    "num"
   ]
  },
  {
   "cell_type": "code",
   "execution_count": 35,
   "id": "3b06c932",
   "metadata": {},
   "outputs": [],
   "source": [
    "del num[2]"
   ]
  },
  {
   "cell_type": "code",
   "execution_count": 36,
   "id": "0561360c",
   "metadata": {},
   "outputs": [
    {
     "data": {
      "text/plain": [
       "[12, 23, 56, 43, 61, 29]"
      ]
     },
     "execution_count": 36,
     "metadata": {},
     "output_type": "execute_result"
    }
   ],
   "source": [
    "num"
   ]
  },
  {
   "cell_type": "code",
   "execution_count": 37,
   "id": "42233971",
   "metadata": {},
   "outputs": [],
   "source": [
    "del num"
   ]
  },
  {
   "cell_type": "code",
   "execution_count": 38,
   "id": "5f189ab0",
   "metadata": {},
   "outputs": [
    {
     "ename": "NameError",
     "evalue": "name 'num' is not defined",
     "output_type": "error",
     "traceback": [
      "\u001b[0;31m---------------------------------------------------------------------------\u001b[0m",
      "\u001b[0;31mNameError\u001b[0m                                 Traceback (most recent call last)",
      "Cell \u001b[0;32mIn[38], line 1\u001b[0m\n\u001b[0;32m----> 1\u001b[0m num\n",
      "\u001b[0;31mNameError\u001b[0m: name 'num' is not defined"
     ]
    }
   ],
   "source": [
    "num"
   ]
  },
  {
   "cell_type": "markdown",
   "id": "61e2edd1",
   "metadata": {},
   "source": [
    "#### in operator"
   ]
  },
  {
   "cell_type": "code",
   "execution_count": 39,
   "id": "509d5724",
   "metadata": {},
   "outputs": [],
   "source": [
    "num = [12, 23, 43, 56, 43, 61, 29]"
   ]
  },
  {
   "cell_type": "code",
   "execution_count": 40,
   "id": "4fc57f1b",
   "metadata": {},
   "outputs": [
    {
     "data": {
      "text/plain": [
       "True"
      ]
     },
     "execution_count": 40,
     "metadata": {},
     "output_type": "execute_result"
    }
   ],
   "source": [
    "56 in num"
   ]
  },
  {
   "cell_type": "code",
   "execution_count": 41,
   "id": "859d4b65",
   "metadata": {},
   "outputs": [
    {
     "data": {
      "text/plain": [
       "False"
      ]
     },
     "execution_count": 41,
     "metadata": {},
     "output_type": "execute_result"
    }
   ],
   "source": [
    "100 in num"
   ]
  },
  {
   "cell_type": "code",
   "execution_count": 42,
   "id": "38999c5a",
   "metadata": {},
   "outputs": [
    {
     "data": {
      "text/plain": [
       "True"
      ]
     },
     "execution_count": 42,
     "metadata": {},
     "output_type": "execute_result"
    }
   ],
   "source": [
    "100 not in num"
   ]
  },
  {
   "cell_type": "markdown",
   "id": "cb7abcfe",
   "metadata": {},
   "source": [
    "#### Arithmetic Operations"
   ]
  },
  {
   "cell_type": "code",
   "execution_count": 43,
   "id": "8d578224",
   "metadata": {},
   "outputs": [
    {
     "data": {
      "text/plain": [
       "[12, 23, 43, 56, 43, 61, 29]"
      ]
     },
     "execution_count": 43,
     "metadata": {},
     "output_type": "execute_result"
    }
   ],
   "source": [
    "num"
   ]
  },
  {
   "cell_type": "code",
   "execution_count": 44,
   "id": "5ab2e10d",
   "metadata": {},
   "outputs": [
    {
     "data": {
      "text/plain": [
       "[12, 23, 43, 56, 43, 61, 29, 12, 23, 43, 56, 43, 61, 29]"
      ]
     },
     "execution_count": 44,
     "metadata": {},
     "output_type": "execute_result"
    }
   ],
   "source": [
    "num * 2"
   ]
  },
  {
   "cell_type": "code",
   "execution_count": 45,
   "id": "a10eed82",
   "metadata": {},
   "outputs": [
    {
     "data": {
      "text/plain": [
       "[12, 23, 43, 56, 43, 61, 29, 10, 13]"
      ]
     },
     "execution_count": 45,
     "metadata": {},
     "output_type": "execute_result"
    }
   ],
   "source": [
    "num + [10, 13]"
   ]
  },
  {
   "cell_type": "code",
   "execution_count": 46,
   "id": "1b83c426",
   "metadata": {},
   "outputs": [],
   "source": [
    "num = num + [10, 13]"
   ]
  },
  {
   "cell_type": "code",
   "execution_count": 47,
   "id": "16dccdc2",
   "metadata": {},
   "outputs": [
    {
     "data": {
      "text/plain": [
       "[12, 23, 43, 56, 43, 61, 29, 10, 13]"
      ]
     },
     "execution_count": 47,
     "metadata": {},
     "output_type": "execute_result"
    }
   ],
   "source": [
    "num"
   ]
  },
  {
   "cell_type": "code",
   "execution_count": 48,
   "id": "2e960127",
   "metadata": {},
   "outputs": [
    {
     "data": {
      "text/plain": [
       "[12, 23, 43, 56, 43, 61, 29, 10, 13, 12, 34.77, 'Adi', True, 'Pune']"
      ]
     },
     "execution_count": 48,
     "metadata": {},
     "output_type": "execute_result"
    }
   ],
   "source": [
    "num + mydata"
   ]
  },
  {
   "cell_type": "markdown",
   "id": "e7567b03",
   "metadata": {},
   "source": [
    "#### iterating the list"
   ]
  },
  {
   "cell_type": "code",
   "execution_count": 49,
   "id": "a4c0ab3e",
   "metadata": {},
   "outputs": [
    {
     "data": {
      "text/plain": [
       "[12, 23, 43, 56, 43, 61, 29, 10, 13]"
      ]
     },
     "execution_count": 49,
     "metadata": {},
     "output_type": "execute_result"
    }
   ],
   "source": [
    "num"
   ]
  },
  {
   "cell_type": "code",
   "execution_count": 50,
   "id": "ea236140",
   "metadata": {},
   "outputs": [
    {
     "name": "stdout",
     "output_type": "stream",
     "text": [
      "144 529 1849 3136 1849 3721 841 100 169 "
     ]
    }
   ],
   "source": [
    "for n in num:\n",
    "    print(n*n, end = ' ')"
   ]
  },
  {
   "cell_type": "code",
   "execution_count": 51,
   "id": "3e9b8a2b",
   "metadata": {},
   "outputs": [
    {
     "name": "stdout",
     "output_type": "stream",
     "text": [
      "23 43 43 61 29 13 "
     ]
    }
   ],
   "source": [
    "# print only odd numbers from this list\n",
    "\n",
    "for n in num:\n",
    "    if n % 2 == 1:\n",
    "        print(n, end = ' ')"
   ]
  },
  {
   "cell_type": "code",
   "execution_count": 52,
   "id": "1fb41177",
   "metadata": {
    "scrolled": true
   },
   "outputs": [
    {
     "data": {
      "text/plain": [
       "[12, 23, 43, 56, 43, 61, 29, 10, 13]"
      ]
     },
     "execution_count": 52,
     "metadata": {},
     "output_type": "execute_result"
    }
   ],
   "source": [
    "num"
   ]
  },
  {
   "cell_type": "code",
   "execution_count": 53,
   "id": "c54718c0",
   "metadata": {},
   "outputs": [
    {
     "data": {
      "text/plain": [
       "9"
      ]
     },
     "execution_count": 53,
     "metadata": {},
     "output_type": "execute_result"
    }
   ],
   "source": [
    "len(num)"
   ]
  },
  {
   "cell_type": "code",
   "execution_count": 54,
   "id": "97e3fdf7",
   "metadata": {},
   "outputs": [
    {
     "name": "stdout",
     "output_type": "stream",
     "text": [
      "23 43 43 61 29 13 "
     ]
    }
   ],
   "source": [
    "index = 0\n",
    "\n",
    "while index < len(num):\n",
    "    if num[index] % 2 == 1:\n",
    "        print(num[index], end = ' ')\n",
    "    index +=1      "
   ]
  },
  {
   "cell_type": "markdown",
   "id": "106ed429",
   "metadata": {},
   "source": [
    "#### List comprehension - map"
   ]
  },
  {
   "cell_type": "code",
   "execution_count": 55,
   "id": "3caa9a92",
   "metadata": {},
   "outputs": [
    {
     "data": {
      "text/plain": [
       "[12, 23, 43, 56, 43, 61, 29, 10, 13]"
      ]
     },
     "execution_count": 55,
     "metadata": {},
     "output_type": "execute_result"
    }
   ],
   "source": [
    "num"
   ]
  },
  {
   "cell_type": "code",
   "execution_count": 56,
   "id": "66d97758",
   "metadata": {},
   "outputs": [],
   "source": [
    "new = [n/2 for n in num]"
   ]
  },
  {
   "cell_type": "code",
   "execution_count": 57,
   "id": "fb5642a7",
   "metadata": {},
   "outputs": [
    {
     "data": {
      "text/plain": [
       "[6.0, 11.5, 21.5, 28.0, 21.5, 30.5, 14.5, 5.0, 6.5]"
      ]
     },
     "execution_count": 57,
     "metadata": {},
     "output_type": "execute_result"
    }
   ],
   "source": [
    "new"
   ]
  },
  {
   "cell_type": "code",
   "execution_count": 58,
   "id": "abd13d6c",
   "metadata": {},
   "outputs": [
    {
     "data": {
      "text/plain": [
       "[144, 529, 1849, 3136, 1849, 3721, 841, 100, 169]"
      ]
     },
     "execution_count": 58,
     "metadata": {},
     "output_type": "execute_result"
    }
   ],
   "source": [
    "new = [n*n for n in num]\n",
    "new"
   ]
  },
  {
   "cell_type": "markdown",
   "id": "05f4e76d",
   "metadata": {},
   "source": [
    "#### List Compreshension - filter"
   ]
  },
  {
   "cell_type": "code",
   "execution_count": 59,
   "id": "6e5e12f9",
   "metadata": {},
   "outputs": [
    {
     "data": {
      "text/plain": [
       "[12, 23, 43, 56, 43, 61, 29, 10, 13]"
      ]
     },
     "execution_count": 59,
     "metadata": {},
     "output_type": "execute_result"
    }
   ],
   "source": [
    "num"
   ]
  },
  {
   "cell_type": "code",
   "execution_count": 61,
   "id": "7e2700df",
   "metadata": {},
   "outputs": [
    {
     "data": {
      "text/plain": [
       "[43, 56, 43, 61]"
      ]
     },
     "execution_count": 61,
     "metadata": {},
     "output_type": "execute_result"
    }
   ],
   "source": [
    "new = [n for n in num if n > 30]\n",
    "new"
   ]
  },
  {
   "cell_type": "code",
   "execution_count": 62,
   "id": "e7056553",
   "metadata": {},
   "outputs": [],
   "source": [
    "# filter even numbers"
   ]
  },
  {
   "cell_type": "code",
   "execution_count": 63,
   "id": "21ffd565",
   "metadata": {},
   "outputs": [
    {
     "data": {
      "text/plain": [
       "[12, 56, 10]"
      ]
     },
     "execution_count": 63,
     "metadata": {},
     "output_type": "execute_result"
    }
   ],
   "source": [
    "new = [n for n in num if n % 2 == 0]\n",
    "new"
   ]
  },
  {
   "cell_type": "code",
   "execution_count": 68,
   "id": "cf9ac0d9",
   "metadata": {},
   "outputs": [],
   "source": [
    "names = ['riya', 'arvind', 'ravi', 'mohan', 'raj']"
   ]
  },
  {
   "cell_type": "code",
   "execution_count": 70,
   "id": "44f669cb",
   "metadata": {},
   "outputs": [
    {
     "data": {
      "text/plain": [
       "['riya', 'ravi', 'raj']"
      ]
     },
     "execution_count": 70,
     "metadata": {},
     "output_type": "execute_result"
    }
   ],
   "source": [
    "[n for n in names if n.startswith('r')]"
   ]
  },
  {
   "cell_type": "markdown",
   "id": "8af18496",
   "metadata": {},
   "source": [
    "#### empty list"
   ]
  },
  {
   "cell_type": "code",
   "execution_count": 71,
   "id": "eaf1ca8f",
   "metadata": {},
   "outputs": [],
   "source": [
    "e = []"
   ]
  },
  {
   "cell_type": "code",
   "execution_count": 72,
   "id": "3e1c1712",
   "metadata": {},
   "outputs": [
    {
     "data": {
      "text/plain": [
       "list"
      ]
     },
     "execution_count": 72,
     "metadata": {},
     "output_type": "execute_result"
    }
   ],
   "source": [
    "type(e)"
   ]
  },
  {
   "cell_type": "code",
   "execution_count": 73,
   "id": "0fb50856",
   "metadata": {},
   "outputs": [
    {
     "ename": "IndexError",
     "evalue": "list index out of range",
     "output_type": "error",
     "traceback": [
      "\u001b[0;31m---------------------------------------------------------------------------\u001b[0m",
      "\u001b[0;31mIndexError\u001b[0m                                Traceback (most recent call last)",
      "Cell \u001b[0;32mIn[73], line 1\u001b[0m\n\u001b[0;32m----> 1\u001b[0m e[\u001b[38;5;241m0\u001b[39m]\n",
      "\u001b[0;31mIndexError\u001b[0m: list index out of range"
     ]
    }
   ],
   "source": [
    "e[0]"
   ]
  },
  {
   "cell_type": "code",
   "execution_count": 74,
   "id": "32df1d3d",
   "metadata": {},
   "outputs": [],
   "source": [
    "e = e + [34]"
   ]
  },
  {
   "cell_type": "code",
   "execution_count": 75,
   "id": "a30ffaaf",
   "metadata": {},
   "outputs": [
    {
     "data": {
      "text/plain": [
       "[34]"
      ]
     },
     "execution_count": 75,
     "metadata": {},
     "output_type": "execute_result"
    }
   ],
   "source": [
    "e"
   ]
  },
  {
   "cell_type": "code",
   "execution_count": 76,
   "id": "90e6b34d",
   "metadata": {},
   "outputs": [
    {
     "data": {
      "text/plain": [
       "34"
      ]
     },
     "execution_count": 76,
     "metadata": {},
     "output_type": "execute_result"
    }
   ],
   "source": [
    "e[0]"
   ]
  },
  {
   "cell_type": "markdown",
   "id": "52314636",
   "metadata": {},
   "source": [
    "#### decompose the list"
   ]
  },
  {
   "cell_type": "code",
   "execution_count": 77,
   "id": "5815fcd1",
   "metadata": {},
   "outputs": [],
   "source": [
    "mylist = [23, 34, 41]"
   ]
  },
  {
   "cell_type": "code",
   "execution_count": 78,
   "id": "86c75d8c",
   "metadata": {},
   "outputs": [],
   "source": [
    "x, y, z = mylist"
   ]
  },
  {
   "cell_type": "code",
   "execution_count": 79,
   "id": "bb3e1999",
   "metadata": {},
   "outputs": [
    {
     "data": {
      "text/plain": [
       "23"
      ]
     },
     "execution_count": 79,
     "metadata": {},
     "output_type": "execute_result"
    }
   ],
   "source": [
    "x"
   ]
  },
  {
   "cell_type": "code",
   "execution_count": 80,
   "id": "7f12a5f0",
   "metadata": {},
   "outputs": [
    {
     "data": {
      "text/plain": [
       "34"
      ]
     },
     "execution_count": 80,
     "metadata": {},
     "output_type": "execute_result"
    }
   ],
   "source": [
    "y"
   ]
  },
  {
   "cell_type": "code",
   "execution_count": 81,
   "id": "1dcc0644",
   "metadata": {},
   "outputs": [
    {
     "data": {
      "text/plain": [
       "41"
      ]
     },
     "execution_count": 81,
     "metadata": {},
     "output_type": "execute_result"
    }
   ],
   "source": [
    "z"
   ]
  },
  {
   "cell_type": "markdown",
   "id": "22eceaee",
   "metadata": {},
   "source": [
    "#### functions"
   ]
  },
  {
   "cell_type": "code",
   "execution_count": 82,
   "id": "a877c6c2",
   "metadata": {},
   "outputs": [
    {
     "data": {
      "text/plain": [
       "[12, 23, 43, 56, 43, 61, 29, 10, 13]"
      ]
     },
     "execution_count": 82,
     "metadata": {},
     "output_type": "execute_result"
    }
   ],
   "source": [
    "num"
   ]
  },
  {
   "cell_type": "code",
   "execution_count": 83,
   "id": "049e4051",
   "metadata": {},
   "outputs": [
    {
     "data": {
      "text/plain": [
       "9"
      ]
     },
     "execution_count": 83,
     "metadata": {},
     "output_type": "execute_result"
    }
   ],
   "source": [
    "len(num)"
   ]
  },
  {
   "cell_type": "code",
   "execution_count": 84,
   "id": "50d4d03f",
   "metadata": {},
   "outputs": [
    {
     "data": {
      "text/plain": [
       "10"
      ]
     },
     "execution_count": 84,
     "metadata": {},
     "output_type": "execute_result"
    }
   ],
   "source": [
    "min(num)"
   ]
  },
  {
   "cell_type": "code",
   "execution_count": 85,
   "id": "7e56bdb6",
   "metadata": {},
   "outputs": [
    {
     "data": {
      "text/plain": [
       "61"
      ]
     },
     "execution_count": 85,
     "metadata": {},
     "output_type": "execute_result"
    }
   ],
   "source": [
    "max(num)"
   ]
  },
  {
   "cell_type": "code",
   "execution_count": 86,
   "id": "a51cb834",
   "metadata": {},
   "outputs": [
    {
     "data": {
      "text/plain": [
       "290"
      ]
     },
     "execution_count": 86,
     "metadata": {},
     "output_type": "execute_result"
    }
   ],
   "source": [
    "sum(num)"
   ]
  },
  {
   "cell_type": "code",
   "execution_count": 90,
   "id": "de98c75f",
   "metadata": {},
   "outputs": [
    {
     "data": {
      "text/plain": [
       "[10, 12, 13, 23, 29, 43, 43, 56, 61]"
      ]
     },
     "execution_count": 90,
     "metadata": {},
     "output_type": "execute_result"
    }
   ],
   "source": [
    "sorted(num)"
   ]
  },
  {
   "cell_type": "code",
   "execution_count": 91,
   "id": "dc16db85",
   "metadata": {},
   "outputs": [
    {
     "data": {
      "text/plain": [
       "[61, 56, 43, 43, 29, 23, 13, 12, 10]"
      ]
     },
     "execution_count": 91,
     "metadata": {},
     "output_type": "execute_result"
    }
   ],
   "source": [
    "sorted(num, reverse = True)"
   ]
  },
  {
   "cell_type": "code",
   "execution_count": 92,
   "id": "e6e15d36",
   "metadata": {},
   "outputs": [],
   "source": [
    "name = 'Aditya'"
   ]
  },
  {
   "cell_type": "code",
   "execution_count": 93,
   "id": "03e97bbb",
   "metadata": {},
   "outputs": [
    {
     "data": {
      "text/plain": [
       "['A', 'd', 'i', 't', 'y', 'a']"
      ]
     },
     "execution_count": 93,
     "metadata": {},
     "output_type": "execute_result"
    }
   ],
   "source": [
    "list(name)"
   ]
  },
  {
   "cell_type": "markdown",
   "id": "e2f3b157",
   "metadata": {},
   "source": [
    "#### methods"
   ]
  },
  {
   "cell_type": "code",
   "execution_count": 94,
   "id": "c7ac52b9",
   "metadata": {
    "scrolled": true
   },
   "outputs": [
    {
     "data": {
      "text/plain": [
       "[12, 23, 43, 56, 43, 61, 29, 10, 13]"
      ]
     },
     "execution_count": 94,
     "metadata": {},
     "output_type": "execute_result"
    }
   ],
   "source": [
    "num"
   ]
  },
  {
   "cell_type": "code",
   "execution_count": 95,
   "id": "b48c3c0f",
   "metadata": {},
   "outputs": [],
   "source": [
    "# append the data => adding at the end\n",
    "\n",
    "num.append(57)"
   ]
  },
  {
   "cell_type": "code",
   "execution_count": 96,
   "id": "94a3bb9b",
   "metadata": {},
   "outputs": [
    {
     "data": {
      "text/plain": [
       "[12, 23, 43, 56, 43, 61, 29, 10, 13, 57]"
      ]
     },
     "execution_count": 96,
     "metadata": {},
     "output_type": "execute_result"
    }
   ],
   "source": [
    "num"
   ]
  },
  {
   "cell_type": "code",
   "execution_count": 97,
   "id": "4c9ed8d6",
   "metadata": {},
   "outputs": [],
   "source": [
    "# append and extend"
   ]
  },
  {
   "cell_type": "code",
   "execution_count": 98,
   "id": "2d114c71",
   "metadata": {},
   "outputs": [],
   "source": [
    "x = [12, 23, 34]\n",
    "y = [12, 23, 34]"
   ]
  },
  {
   "cell_type": "code",
   "execution_count": 99,
   "id": "dc08e6a3",
   "metadata": {},
   "outputs": [],
   "source": [
    "x.append([45, 49])\n",
    "y.extend([45, 49])"
   ]
  },
  {
   "cell_type": "code",
   "execution_count": 100,
   "id": "9f8c5f54",
   "metadata": {},
   "outputs": [
    {
     "data": {
      "text/plain": [
       "[12, 23, 34, [45, 49]]"
      ]
     },
     "execution_count": 100,
     "metadata": {},
     "output_type": "execute_result"
    }
   ],
   "source": [
    "x"
   ]
  },
  {
   "cell_type": "code",
   "execution_count": 101,
   "id": "9a67fa37",
   "metadata": {},
   "outputs": [
    {
     "data": {
      "text/plain": [
       "[12, 23, 34, 45, 49]"
      ]
     },
     "execution_count": 101,
     "metadata": {},
     "output_type": "execute_result"
    }
   ],
   "source": [
    "y"
   ]
  },
  {
   "cell_type": "code",
   "execution_count": 102,
   "id": "6d3706e6",
   "metadata": {},
   "outputs": [
    {
     "data": {
      "text/plain": [
       "[45, 49]"
      ]
     },
     "execution_count": 102,
     "metadata": {},
     "output_type": "execute_result"
    }
   ],
   "source": [
    "x[3]"
   ]
  },
  {
   "cell_type": "code",
   "execution_count": 103,
   "id": "a2f21601",
   "metadata": {},
   "outputs": [
    {
     "data": {
      "text/plain": [
       "49"
      ]
     },
     "execution_count": 103,
     "metadata": {},
     "output_type": "execute_result"
    }
   ],
   "source": [
    "x[3][1]"
   ]
  },
  {
   "cell_type": "code",
   "execution_count": 104,
   "id": "a9a117c3",
   "metadata": {},
   "outputs": [
    {
     "data": {
      "text/plain": [
       "[12, 23, 43, 56, 43, 61, 29, 10, 13, 57]"
      ]
     },
     "execution_count": 104,
     "metadata": {},
     "output_type": "execute_result"
    }
   ],
   "source": [
    "# insert the data\n",
    "num"
   ]
  },
  {
   "cell_type": "code",
   "execution_count": 105,
   "id": "cfe66806",
   "metadata": {},
   "outputs": [],
   "source": [
    "num.insert(2, 100)"
   ]
  },
  {
   "cell_type": "code",
   "execution_count": 106,
   "id": "81a85111",
   "metadata": {},
   "outputs": [
    {
     "data": {
      "text/plain": [
       "[12, 23, 100, 43, 56, 43, 61, 29, 10, 13, 57]"
      ]
     },
     "execution_count": 106,
     "metadata": {},
     "output_type": "execute_result"
    }
   ],
   "source": [
    "num"
   ]
  },
  {
   "cell_type": "code",
   "execution_count": 107,
   "id": "758178a3",
   "metadata": {},
   "outputs": [],
   "source": [
    "num.remove(43)"
   ]
  },
  {
   "cell_type": "code",
   "execution_count": 108,
   "id": "2daa321a",
   "metadata": {},
   "outputs": [
    {
     "data": {
      "text/plain": [
       "[12, 23, 100, 56, 43, 61, 29, 10, 13, 57]"
      ]
     },
     "execution_count": 108,
     "metadata": {},
     "output_type": "execute_result"
    }
   ],
   "source": [
    "num"
   ]
  },
  {
   "cell_type": "code",
   "execution_count": 109,
   "id": "55cf7580",
   "metadata": {},
   "outputs": [
    {
     "data": {
      "text/plain": [
       "5"
      ]
     },
     "execution_count": 109,
     "metadata": {},
     "output_type": "execute_result"
    }
   ],
   "source": [
    "num.index(61)"
   ]
  },
  {
   "cell_type": "code",
   "execution_count": 110,
   "id": "566b65a7",
   "metadata": {},
   "outputs": [
    {
     "data": {
      "text/plain": [
       "1"
      ]
     },
     "execution_count": 110,
     "metadata": {},
     "output_type": "execute_result"
    }
   ],
   "source": [
    "num.count(43)"
   ]
  },
  {
   "cell_type": "code",
   "execution_count": 111,
   "id": "1c17818c",
   "metadata": {},
   "outputs": [
    {
     "data": {
      "text/plain": [
       "57"
      ]
     },
     "execution_count": 111,
     "metadata": {},
     "output_type": "execute_result"
    }
   ],
   "source": [
    "# pop/delete the data\n",
    "\n",
    "num.pop()"
   ]
  },
  {
   "cell_type": "code",
   "execution_count": 112,
   "id": "7808358d",
   "metadata": {},
   "outputs": [
    {
     "data": {
      "text/plain": [
       "[12, 23, 100, 56, 43, 61, 29, 10, 13]"
      ]
     },
     "execution_count": 112,
     "metadata": {},
     "output_type": "execute_result"
    }
   ],
   "source": [
    "num"
   ]
  },
  {
   "cell_type": "code",
   "execution_count": 113,
   "id": "1c0740f2",
   "metadata": {},
   "outputs": [
    {
     "data": {
      "text/plain": [
       "12"
      ]
     },
     "execution_count": 113,
     "metadata": {},
     "output_type": "execute_result"
    }
   ],
   "source": [
    "num.pop(0)"
   ]
  },
  {
   "cell_type": "code",
   "execution_count": 114,
   "id": "395df33f",
   "metadata": {},
   "outputs": [],
   "source": [
    "num.reverse()"
   ]
  },
  {
   "cell_type": "code",
   "execution_count": 115,
   "id": "aa1603cf",
   "metadata": {},
   "outputs": [
    {
     "data": {
      "text/plain": [
       "[13, 10, 29, 61, 43, 56, 100, 23]"
      ]
     },
     "execution_count": 115,
     "metadata": {},
     "output_type": "execute_result"
    }
   ],
   "source": [
    "num"
   ]
  },
  {
   "cell_type": "code",
   "execution_count": 116,
   "id": "63922a11",
   "metadata": {},
   "outputs": [],
   "source": [
    "num.sort()"
   ]
  },
  {
   "cell_type": "code",
   "execution_count": 118,
   "id": "65314a2c",
   "metadata": {},
   "outputs": [
    {
     "data": {
      "text/plain": [
       "[10, 13, 23, 29, 43, 56, 61, 100]"
      ]
     },
     "execution_count": 118,
     "metadata": {},
     "output_type": "execute_result"
    }
   ],
   "source": [
    "num"
   ]
  },
  {
   "cell_type": "code",
   "execution_count": 119,
   "id": "7eefebce",
   "metadata": {},
   "outputs": [],
   "source": [
    "num.sort(reverse= True)"
   ]
  },
  {
   "cell_type": "code",
   "execution_count": 120,
   "id": "1d4fe2a6",
   "metadata": {},
   "outputs": [
    {
     "data": {
      "text/plain": [
       "[100, 61, 56, 43, 29, 23, 13, 10]"
      ]
     },
     "execution_count": 120,
     "metadata": {},
     "output_type": "execute_result"
    }
   ],
   "source": [
    "num"
   ]
  },
  {
   "cell_type": "code",
   "execution_count": 121,
   "id": "9cec0dfc",
   "metadata": {},
   "outputs": [
    {
     "name": "stdout",
     "output_type": "stream",
     "text": [
      "How many values? 5\n",
      "Enter the element 30\n",
      "Enter the element 32\n",
      "Enter the element 37\n",
      "Enter the element 40\n",
      "Enter the element 51\n",
      "your list is  [30, 32, 37, 40, 51]\n"
     ]
    }
   ],
   "source": [
    "# create a list with user input\n",
    "\n",
    "l = []\n",
    "\n",
    "count = int(input('How many values? '))\n",
    "\n",
    "for i in range(count):\n",
    "    num = int(input('Enter the element '))\n",
    "    l.append(num)\n",
    "    \n",
    "print('your list is ', l)"
   ]
  },
  {
   "cell_type": "markdown",
   "id": "67b1b2db",
   "metadata": {},
   "source": [
    "# tuple"
   ]
  },
  {
   "cell_type": "code",
   "execution_count": 122,
   "id": "57b6031c",
   "metadata": {},
   "outputs": [],
   "source": [
    "num = (23, 45, 67,43, 45, 78)"
   ]
  },
  {
   "cell_type": "code",
   "execution_count": 123,
   "id": "d2233d36",
   "metadata": {},
   "outputs": [
    {
     "data": {
      "text/plain": [
       "(23, 45, 67, 43, 45, 78)"
      ]
     },
     "execution_count": 123,
     "metadata": {},
     "output_type": "execute_result"
    }
   ],
   "source": [
    "num  # duplicates are allowed"
   ]
  },
  {
   "cell_type": "code",
   "execution_count": 124,
   "id": "deed87b7",
   "metadata": {},
   "outputs": [
    {
     "data": {
      "text/plain": [
       "tuple"
      ]
     },
     "execution_count": 124,
     "metadata": {},
     "output_type": "execute_result"
    }
   ],
   "source": [
    "type(num)"
   ]
  },
  {
   "cell_type": "code",
   "execution_count": 126,
   "id": "ba6596fc",
   "metadata": {},
   "outputs": [
    {
     "data": {
      "text/plain": [
       "67"
      ]
     },
     "execution_count": 126,
     "metadata": {},
     "output_type": "execute_result"
    }
   ],
   "source": [
    "num[2]  # ordered"
   ]
  },
  {
   "cell_type": "code",
   "execution_count": 127,
   "id": "1a2fa18c",
   "metadata": {},
   "outputs": [
    {
     "name": "stdout",
     "output_type": "stream",
     "text": [
      "23 45 67 43 45 78 "
     ]
    }
   ],
   "source": [
    "for n in num:\n",
    "    print(n, end = ' ')"
   ]
  },
  {
   "cell_type": "code",
   "execution_count": 128,
   "id": "396816fc",
   "metadata": {},
   "outputs": [
    {
     "data": {
      "text/plain": [
       "True"
      ]
     },
     "execution_count": 128,
     "metadata": {},
     "output_type": "execute_result"
    }
   ],
   "source": [
    "67 in num"
   ]
  },
  {
   "cell_type": "code",
   "execution_count": 129,
   "id": "97f7b621",
   "metadata": {},
   "outputs": [
    {
     "data": {
      "text/plain": [
       "6"
      ]
     },
     "execution_count": 129,
     "metadata": {},
     "output_type": "execute_result"
    }
   ],
   "source": [
    "len(num)"
   ]
  },
  {
   "cell_type": "code",
   "execution_count": 130,
   "id": "8ff8dcae",
   "metadata": {},
   "outputs": [
    {
     "data": {
      "text/plain": [
       "78"
      ]
     },
     "execution_count": 130,
     "metadata": {},
     "output_type": "execute_result"
    }
   ],
   "source": [
    "max(num)"
   ]
  },
  {
   "cell_type": "code",
   "execution_count": 131,
   "id": "04599672",
   "metadata": {},
   "outputs": [],
   "source": [
    "# tuples are immutable"
   ]
  },
  {
   "cell_type": "code",
   "execution_count": 132,
   "id": "34e6c70c",
   "metadata": {},
   "outputs": [
    {
     "data": {
      "text/plain": [
       "(23, 45, 67, 43, 45, 78)"
      ]
     },
     "execution_count": 132,
     "metadata": {},
     "output_type": "execute_result"
    }
   ],
   "source": [
    "num"
   ]
  },
  {
   "cell_type": "code",
   "execution_count": 133,
   "id": "ffa26e85",
   "metadata": {},
   "outputs": [
    {
     "ename": "TypeError",
     "evalue": "'tuple' object does not support item assignment",
     "output_type": "error",
     "traceback": [
      "\u001b[0;31m---------------------------------------------------------------------------\u001b[0m",
      "\u001b[0;31mTypeError\u001b[0m                                 Traceback (most recent call last)",
      "Cell \u001b[0;32mIn[133], line 1\u001b[0m\n\u001b[0;32m----> 1\u001b[0m num[\u001b[38;5;241m1\u001b[39m] \u001b[38;5;241m=\u001b[39m \u001b[38;5;241m78\u001b[39m\n",
      "\u001b[0;31mTypeError\u001b[0m: 'tuple' object does not support item assignment"
     ]
    }
   ],
   "source": [
    "num[1] = 78"
   ]
  },
  {
   "cell_type": "code",
   "execution_count": 134,
   "id": "37602143",
   "metadata": {},
   "outputs": [
    {
     "ename": "TypeError",
     "evalue": "'tuple' object doesn't support item deletion",
     "output_type": "error",
     "traceback": [
      "\u001b[0;31m---------------------------------------------------------------------------\u001b[0m",
      "\u001b[0;31mTypeError\u001b[0m                                 Traceback (most recent call last)",
      "Cell \u001b[0;32mIn[134], line 1\u001b[0m\n\u001b[0;32m----> 1\u001b[0m \u001b[38;5;28;01mdel\u001b[39;00m num[\u001b[38;5;241m1\u001b[39m]\n",
      "\u001b[0;31mTypeError\u001b[0m: 'tuple' object doesn't support item deletion"
     ]
    }
   ],
   "source": [
    "del num[1]"
   ]
  },
  {
   "cell_type": "code",
   "execution_count": 135,
   "id": "d3b8d1c9",
   "metadata": {},
   "outputs": [
    {
     "data": {
      "text/plain": [
       "(12, 23, 34, 45, 56)"
      ]
     },
     "execution_count": 135,
     "metadata": {},
     "output_type": "execute_result"
    }
   ],
   "source": [
    "x = [12, 23, 34, 45, 56]\n",
    "tuple(x)"
   ]
  },
  {
   "cell_type": "code",
   "execution_count": 136,
   "id": "7df20bb9",
   "metadata": {},
   "outputs": [
    {
     "data": {
      "text/plain": [
       "[12, 23, 34, 45, 56]"
      ]
     },
     "execution_count": 136,
     "metadata": {},
     "output_type": "execute_result"
    }
   ],
   "source": [
    "y = (12, 23, 34, 45, 56)\n",
    "list(y)"
   ]
  },
  {
   "cell_type": "markdown",
   "id": "6b0df4ea",
   "metadata": {},
   "source": [
    "# Set"
   ]
  },
  {
   "cell_type": "code",
   "execution_count": 137,
   "id": "9eb0923c",
   "metadata": {},
   "outputs": [],
   "source": [
    "# collection unique and distict values"
   ]
  },
  {
   "cell_type": "code",
   "execution_count": 138,
   "id": "f274a0e3",
   "metadata": {},
   "outputs": [],
   "source": [
    "s = {1,2,2,2,3,4,4,5,6,6,7}"
   ]
  },
  {
   "cell_type": "code",
   "execution_count": 139,
   "id": "f565308e",
   "metadata": {},
   "outputs": [
    {
     "data": {
      "text/plain": [
       "{1, 2, 3, 4, 5, 6, 7}"
      ]
     },
     "execution_count": 139,
     "metadata": {},
     "output_type": "execute_result"
    }
   ],
   "source": [
    "s   # duplicates not allowed"
   ]
  },
  {
   "cell_type": "code",
   "execution_count": 140,
   "id": "82e75d2c",
   "metadata": {},
   "outputs": [
    {
     "data": {
      "text/plain": [
       "set"
      ]
     },
     "execution_count": 140,
     "metadata": {},
     "output_type": "execute_result"
    }
   ],
   "source": [
    "type(s)"
   ]
  },
  {
   "cell_type": "code",
   "execution_count": 141,
   "id": "6f76ed46",
   "metadata": {},
   "outputs": [
    {
     "ename": "TypeError",
     "evalue": "'set' object is not subscriptable",
     "output_type": "error",
     "traceback": [
      "\u001b[0;31m---------------------------------------------------------------------------\u001b[0m",
      "\u001b[0;31mTypeError\u001b[0m                                 Traceback (most recent call last)",
      "Cell \u001b[0;32mIn[141], line 1\u001b[0m\n\u001b[0;32m----> 1\u001b[0m s[\u001b[38;5;241m3\u001b[39m]\n",
      "\u001b[0;31mTypeError\u001b[0m: 'set' object is not subscriptable"
     ]
    }
   ],
   "source": [
    "s[3]  # unordered"
   ]
  },
  {
   "cell_type": "code",
   "execution_count": 142,
   "id": "db6891c8",
   "metadata": {},
   "outputs": [],
   "source": [
    "s.add(10)"
   ]
  },
  {
   "cell_type": "code",
   "execution_count": 143,
   "id": "da27db7a",
   "metadata": {},
   "outputs": [
    {
     "data": {
      "text/plain": [
       "{1, 2, 3, 4, 5, 6, 7, 10}"
      ]
     },
     "execution_count": 143,
     "metadata": {},
     "output_type": "execute_result"
    }
   ],
   "source": [
    "s  # mutable"
   ]
  },
  {
   "cell_type": "code",
   "execution_count": 144,
   "id": "b83ba612",
   "metadata": {},
   "outputs": [
    {
     "data": {
      "text/plain": [
       "[1, 2, 3, 4, 5, 6, 7, 10]"
      ]
     },
     "execution_count": 144,
     "metadata": {},
     "output_type": "execute_result"
    }
   ],
   "source": [
    "list(s)"
   ]
  },
  {
   "cell_type": "markdown",
   "id": "89c75fe5",
   "metadata": {},
   "source": [
    "# Dictionary"
   ]
  },
  {
   "cell_type": "code",
   "execution_count": 145,
   "id": "059665dd",
   "metadata": {},
   "outputs": [],
   "source": [
    "d = {1:70, 2:73, 3:67, 4:67, 5:81}"
   ]
  },
  {
   "cell_type": "code",
   "execution_count": 147,
   "id": "e4edf227",
   "metadata": {},
   "outputs": [
    {
     "data": {
      "text/plain": [
       "{1: 70, 2: 73, 3: 67, 4: 67, 5: 81}"
      ]
     },
     "execution_count": 147,
     "metadata": {},
     "output_type": "execute_result"
    }
   ],
   "source": [
    "d  # key and value pairs"
   ]
  },
  {
   "cell_type": "code",
   "execution_count": 148,
   "id": "98c89e28",
   "metadata": {},
   "outputs": [
    {
     "data": {
      "text/plain": [
       "dict"
      ]
     },
     "execution_count": 148,
     "metadata": {},
     "output_type": "execute_result"
    }
   ],
   "source": [
    "type(d)"
   ]
  },
  {
   "cell_type": "code",
   "execution_count": 149,
   "id": "8ea4153c",
   "metadata": {},
   "outputs": [
    {
     "data": {
      "text/plain": [
       "67"
      ]
     },
     "execution_count": 149,
     "metadata": {},
     "output_type": "execute_result"
    }
   ],
   "source": [
    "# key => index\n",
    "\n",
    "d[3]"
   ]
  },
  {
   "cell_type": "code",
   "execution_count": 152,
   "id": "669827cb",
   "metadata": {},
   "outputs": [],
   "source": [
    "d[10]= 75"
   ]
  },
  {
   "cell_type": "code",
   "execution_count": 153,
   "id": "cdf09878",
   "metadata": {},
   "outputs": [
    {
     "data": {
      "text/plain": [
       "{1: 70, 2: 73, 3: 67, 4: 67, 5: 81, 10: 75}"
      ]
     },
     "execution_count": 153,
     "metadata": {},
     "output_type": "execute_result"
    }
   ],
   "source": [
    "d"
   ]
  },
  {
   "cell_type": "code",
   "execution_count": 154,
   "id": "f2a00a4c",
   "metadata": {},
   "outputs": [],
   "source": [
    "# key are immutale, uniques"
   ]
  },
  {
   "cell_type": "code",
   "execution_count": 157,
   "id": "45d83bb3",
   "metadata": {},
   "outputs": [],
   "source": [
    "d[5] = 'Hello'"
   ]
  },
  {
   "cell_type": "code",
   "execution_count": 158,
   "id": "a6426896",
   "metadata": {},
   "outputs": [
    {
     "data": {
      "text/plain": [
       "{1: 70, 2: 73, 3: 67, 4: 67, 5: 'Hello', 10: 75}"
      ]
     },
     "execution_count": 158,
     "metadata": {},
     "output_type": "execute_result"
    }
   ],
   "source": [
    "d"
   ]
  },
  {
   "cell_type": "code",
   "execution_count": 159,
   "id": "1d30a97c",
   "metadata": {},
   "outputs": [
    {
     "name": "stdout",
     "output_type": "stream",
     "text": [
      "1 2 3 4 5 10 "
     ]
    }
   ],
   "source": [
    "# iterating\n",
    "for n in d:\n",
    "    print(n, end = ' ')"
   ]
  },
  {
   "cell_type": "code",
   "execution_count": 160,
   "id": "1b67431e",
   "metadata": {},
   "outputs": [
    {
     "name": "stdout",
     "output_type": "stream",
     "text": [
      "70 73 67 67 Hello 75 "
     ]
    }
   ],
   "source": [
    "for n in d:\n",
    "    print(d[n], end = ' ')"
   ]
  },
  {
   "cell_type": "code",
   "execution_count": null,
   "id": "dc15e19c",
   "metadata": {},
   "outputs": [],
   "source": []
  }
 ],
 "metadata": {
  "kernelspec": {
   "display_name": "Python 3 (ipykernel)",
   "language": "python",
   "name": "python3"
  },
  "language_info": {
   "codemirror_mode": {
    "name": "ipython",
    "version": 3
   },
   "file_extension": ".py",
   "mimetype": "text/x-python",
   "name": "python",
   "nbconvert_exporter": "python",
   "pygments_lexer": "ipython3",
   "version": "3.11.5"
  }
 },
 "nbformat": 4,
 "nbformat_minor": 5
}
