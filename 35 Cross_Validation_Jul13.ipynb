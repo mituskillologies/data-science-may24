{
 "cells": [
  {
   "cell_type": "code",
   "execution_count": 1,
   "id": "7d3511be-7720-4ac4-bd1e-04c622cda0cf",
   "metadata": {},
   "outputs": [],
   "source": [
    "# Salary_Data.csv"
   ]
  },
  {
   "cell_type": "code",
   "execution_count": 3,
   "id": "fb79d1b5-f10a-4e25-a4bc-2f0c4ad4df98",
   "metadata": {},
   "outputs": [],
   "source": [
    "import pandas as pd\n",
    "import numpy as np"
   ]
  },
  {
   "cell_type": "code",
   "execution_count": 9,
   "id": "400712eb-963a-42ed-9446-7e4a5599cddd",
   "metadata": {},
   "outputs": [
    {
     "data": {
      "text/html": [
       "<div>\n",
       "<style scoped>\n",
       "    .dataframe tbody tr th:only-of-type {\n",
       "        vertical-align: middle;\n",
       "    }\n",
       "\n",
       "    .dataframe tbody tr th {\n",
       "        vertical-align: top;\n",
       "    }\n",
       "\n",
       "    .dataframe thead th {\n",
       "        text-align: right;\n",
       "    }\n",
       "</style>\n",
       "<table border=\"1\" class=\"dataframe\">\n",
       "  <thead>\n",
       "    <tr style=\"text-align: right;\">\n",
       "      <th></th>\n",
       "      <th>YearsExperience</th>\n",
       "      <th>Salary</th>\n",
       "    </tr>\n",
       "  </thead>\n",
       "  <tbody>\n",
       "    <tr>\n",
       "      <th>0</th>\n",
       "      <td>1.1</td>\n",
       "      <td>39343.0</td>\n",
       "    </tr>\n",
       "    <tr>\n",
       "      <th>1</th>\n",
       "      <td>1.3</td>\n",
       "      <td>46205.0</td>\n",
       "    </tr>\n",
       "    <tr>\n",
       "      <th>2</th>\n",
       "      <td>1.5</td>\n",
       "      <td>37731.0</td>\n",
       "    </tr>\n",
       "  </tbody>\n",
       "</table>\n",
       "</div>"
      ],
      "text/plain": [
       "   YearsExperience   Salary\n",
       "0              1.1  39343.0\n",
       "1              1.3  46205.0\n",
       "2              1.5  37731.0"
      ]
     },
     "execution_count": 9,
     "metadata": {},
     "output_type": "execute_result"
    }
   ],
   "source": [
    "df = pd.read_csv('Salary_Data.csv')\n",
    "df.head(3)"
   ]
  },
  {
   "cell_type": "markdown",
   "id": "8f823a8e-8558-436b-8110-b9d42f19779e",
   "metadata": {},
   "source": [
    "### Holdout method"
   ]
  },
  {
   "cell_type": "code",
   "execution_count": 14,
   "id": "224f897e-8e75-4f33-bf15-9a2e1235508b",
   "metadata": {},
   "outputs": [],
   "source": [
    "x = df['YearsExperience'].values\n",
    "x = x.reshape(30,1)\n",
    "y = df['Salary']"
   ]
  },
  {
   "cell_type": "code",
   "execution_count": 16,
   "id": "0b14fcd4-b2f5-4665-a306-fc22ed62cb4f",
   "metadata": {},
   "outputs": [],
   "source": [
    "from sklearn.model_selection import train_test_split\n",
    "x_train, x_test, y_train, y_test = train_test_split(x, y,\n",
    "                                                   random_state= 0,\n",
    "                                                   test_size= 0.25)"
   ]
  },
  {
   "cell_type": "code",
   "execution_count": 18,
   "id": "ee9fb790-7b20-426e-88c2-5b23d6299f6f",
   "metadata": {},
   "outputs": [
    {
     "name": "stdout",
     "output_type": "stream",
     "text": [
      "testing: 0.9779208335417602\n",
      "training: 0.9395413526983522\n"
     ]
    }
   ],
   "source": [
    "# Build the linear reg model\n",
    "\n",
    "from sklearn.linear_model import LinearRegression\n",
    "lr = LinearRegression()\n",
    "lr.fit(x_train, y_train)\n",
    "print('testing:', lr.score(x_test, y_test))\n",
    "print('training:', lr.score(x_train, y_train))"
   ]
  },
  {
   "cell_type": "markdown",
   "id": "45aaa7cf-599b-493c-9162-d7b4fa472a24",
   "metadata": {},
   "source": [
    "## K-fold"
   ]
  },
  {
   "cell_type": "code",
   "execution_count": 22,
   "id": "0594963b-923f-4465-872e-7d8f978f4148",
   "metadata": {},
   "outputs": [],
   "source": [
    "from sklearn.model_selection import KFold"
   ]
  },
  {
   "cell_type": "code",
   "execution_count": 24,
   "id": "c398cd5b-f794-4a92-a62a-f83b6457d3a2",
   "metadata": {},
   "outputs": [],
   "source": [
    "kf = KFold(n_splits= 5, random_state= 0, shuffle= True)"
   ]
  },
  {
   "cell_type": "code",
   "execution_count": 26,
   "id": "295503ec-0fd5-4d11-a19d-b636582d1368",
   "metadata": {},
   "outputs": [
    {
     "name": "stdout",
     "output_type": "stream",
     "text": [
      "[ 0  1  3  4  5  6  7  8  9 11 12 14 15 16 17 18 19 20 21 22 23 25 27 29] \n",
      " [ 2 10 13 24 26 28]\n",
      "[ 0  1  2  3  4  6  7  8  9 10 12 13 14 15 18 19 20 21 23 24 25 26 28 29] \n",
      " [ 5 11 16 17 22 27]\n",
      "[ 0  2  3  4  5  6  7  9 10 11 12 13 15 16 17 18 19 21 22 24 25 26 27 28] \n",
      " [ 1  8 14 20 23 29]\n",
      "[ 0  1  2  3  5  8 10 11 12 13 14 15 16 17 20 21 22 23 24 25 26 27 28 29] \n",
      " [ 4  6  7  9 18 19]\n",
      "[ 1  2  4  5  6  7  8  9 10 11 13 14 16 17 18 19 20 22 23 24 26 27 28 29] \n",
      " [ 0  3 12 15 21 25]\n"
     ]
    }
   ],
   "source": [
    "for train, test in kf.split(x, y):\n",
    "    print(train, '\\n', test)"
   ]
  },
  {
   "cell_type": "code",
   "execution_count": 28,
   "id": "3fbf98a8-e709-4ec9-9b4f-96463afccfa8",
   "metadata": {},
   "outputs": [],
   "source": [
    "# Apply kfold"
   ]
  },
  {
   "cell_type": "code",
   "execution_count": 36,
   "id": "6d8923ab-1e7b-4f16-81f1-e91a2331bafa",
   "metadata": {},
   "outputs": [
    {
     "name": "stdout",
     "output_type": "stream",
     "text": [
      "training: 0.9411949620562126\n",
      "testing: 0.988169515729126 \n",
      "\n",
      "training: 0.9612542631539638\n",
      "testing: 0.9257917429817739 \n",
      "\n",
      "training: 0.9635908373578711\n",
      "testing: 0.9252385867407542 \n",
      "\n",
      "training: 0.9625173469912476\n",
      "testing: 0.8785189123539608 \n",
      "\n",
      "training: 0.9540189535215173\n",
      "testing: 0.9646120517676184 \n",
      "\n"
     ]
    }
   ],
   "source": [
    "for train, test in kf.split(x, y):\n",
    "    lr.fit(x[train], y[train])\n",
    "    print('training:', lr.score(x[train], y[train]))\n",
    "    print('testing:', lr.score(x[test], y[test]), '\\n')"
   ]
  },
  {
   "cell_type": "markdown",
   "id": "88932c1f-03f4-4fc1-b9e0-31bf663de48c",
   "metadata": {},
   "source": [
    "# apply kfold to classification"
   ]
  },
  {
   "cell_type": "code",
   "execution_count": 39,
   "id": "b9d1dcfd-6fc0-41c9-9a5b-567d0412066b",
   "metadata": {},
   "outputs": [],
   "source": [
    "#  banknotes.csv"
   ]
  },
  {
   "cell_type": "code",
   "execution_count": 41,
   "id": "f31b8c71-6f8a-4c26-a588-141ed214b159",
   "metadata": {},
   "outputs": [],
   "source": [
    "df = pd.read_csv('banknotes.csv')\n",
    "x = df.drop('Class', axis = 1)\n",
    "y = df['Class']"
   ]
  },
  {
   "cell_type": "code",
   "execution_count": 43,
   "id": "ddabf4f1-a933-44a4-999b-343678b756e6",
   "metadata": {},
   "outputs": [
    {
     "data": {
      "text/plain": [
       "(1372, 5)"
      ]
     },
     "execution_count": 43,
     "metadata": {},
     "output_type": "execute_result"
    }
   ],
   "source": [
    "df.shape"
   ]
  },
  {
   "cell_type": "code",
   "execution_count": 47,
   "id": "e200759c-2a1c-4983-abd6-682f1317e8c9",
   "metadata": {},
   "outputs": [],
   "source": [
    "from sklearn.tree import DecisionTreeClassifier\n",
    "from sklearn.metrics import accuracy_score\n",
    "dt = DecisionTreeClassifier(random_state=0)"
   ]
  },
  {
   "cell_type": "code",
   "execution_count": 49,
   "id": "c6f8f7cf-1965-4db9-983b-d47728f9f0b8",
   "metadata": {},
   "outputs": [
    {
     "name": "stdout",
     "output_type": "stream",
     "text": [
      "Accuracy: 0.9927272727272727\n",
      "Accuracy: 0.9854545454545455\n",
      "Accuracy: 0.9671532846715328\n",
      "Accuracy: 0.9963503649635036\n",
      "Accuracy: 0.9671532846715328\n"
     ]
    }
   ],
   "source": [
    "for train, test in kf.split(x, y):\n",
    "    dt.fit(x.iloc[train,:], y[train])\n",
    "    y_pred = dt.predict(x.iloc[test,:])\n",
    "    print('Accuracy:', accuracy_score(y[test], y_pred))"
   ]
  },
  {
   "cell_type": "code",
   "execution_count": 51,
   "id": "843f8cd1-ad10-4623-b87a-8dca8d0876f6",
   "metadata": {},
   "outputs": [
    {
     "data": {
      "text/plain": [
       "Class\n",
       "0    762\n",
       "1    610\n",
       "Name: count, dtype: int64"
      ]
     },
     "execution_count": 51,
     "metadata": {},
     "output_type": "execute_result"
    }
   ],
   "source": [
    "y.value_counts()"
   ]
  },
  {
   "cell_type": "code",
   "execution_count": 59,
   "id": "c38f1ee9-148e-4740-a780-dcf34a7762c5",
   "metadata": {},
   "outputs": [
    {
     "name": "stdout",
     "output_type": "stream",
     "text": [
      "0: 55.54\n",
      "1: 44.46\n"
     ]
    }
   ],
   "source": [
    "print('0:', round(y.value_counts()[0]/len(y) * 100, 2))\n",
    "print('1:', round(y.value_counts()[1]/len(y) * 100, 2))"
   ]
  },
  {
   "cell_type": "markdown",
   "id": "d06da389-8cdc-46af-9739-c7213cac37e2",
   "metadata": {},
   "source": [
    "# stratified kfold"
   ]
  },
  {
   "cell_type": "code",
   "execution_count": 62,
   "id": "3b18ded7-0add-47d0-80cb-dc65b36f957a",
   "metadata": {},
   "outputs": [],
   "source": [
    "# stratification\n",
    "from sklearn.model_selection import train_test_split\n",
    "x_train, x_test, y_train, y_test = train_test_split(x, y,\n",
    "                                                   random_state= 0,\n",
    "                                                   test_size= 0.25,\n",
    "                                                   stratify= y)"
   ]
  },
  {
   "cell_type": "code",
   "execution_count": 64,
   "id": "1d651eff-e78c-4194-9dd8-b67bdcde5f8c",
   "metadata": {},
   "outputs": [
    {
     "name": "stdout",
     "output_type": "stream",
     "text": [
      "0: 55.49\n",
      "1: 44.51\n"
     ]
    }
   ],
   "source": [
    "# training balance\n",
    "\n",
    "print('0:', round(y_train.value_counts()[0]/len(y_train) * 100, 2))\n",
    "print('1:', round(y_train.value_counts()[1]/len(y_train) * 100, 2))"
   ]
  },
  {
   "cell_type": "code",
   "execution_count": 68,
   "id": "3af872b9-f3ba-4330-87f8-3bc704a4f51a",
   "metadata": {},
   "outputs": [
    {
     "name": "stdout",
     "output_type": "stream",
     "text": [
      "0: 55.69\n",
      "1: 44.31\n"
     ]
    }
   ],
   "source": [
    "# testing balance\n",
    "print('0:', round(y_test.value_counts()[0]/len(y_test) * 100, 2))\n",
    "print('1:', round(y_test.value_counts()[1]/len(y_test) * 100, 2))"
   ]
  },
  {
   "cell_type": "code",
   "execution_count": 70,
   "id": "0d3e51c3-6a35-430b-953c-22c99f91e61d",
   "metadata": {},
   "outputs": [
    {
     "name": "stdout",
     "output_type": "stream",
     "text": [
      "0: 55.15\n",
      "1: 44.85\n",
      "\n",
      "0: 55.79\n",
      "1: 44.21\n",
      "\n",
      "0: 54.64\n",
      "1: 45.36\n",
      "\n",
      "0: 55.92\n",
      "1: 44.08\n",
      "\n",
      "0: 56.19\n",
      "1: 43.81\n",
      "\n"
     ]
    }
   ],
   "source": [
    "for train, test in kf.split(x, y):\n",
    "    print('0:', round(y[train].value_counts()[0]/len(y[train]) * 100, 2))\n",
    "    print('1:', round(y[train].value_counts()[1]/len(y[train]) * 100, 2))\n",
    "    print()"
   ]
  },
  {
   "cell_type": "code",
   "execution_count": 72,
   "id": "1d9b670c-330a-406d-9fbe-53c7b27ed6ea",
   "metadata": {},
   "outputs": [],
   "source": [
    "# stratified kfold"
   ]
  },
  {
   "cell_type": "code",
   "execution_count": 74,
   "id": "53b976da-e371-4cdf-99f1-e571e6a87bf8",
   "metadata": {},
   "outputs": [],
   "source": [
    "from sklearn.model_selection import StratifiedKFold"
   ]
  },
  {
   "cell_type": "code",
   "execution_count": 76,
   "id": "6261f980-7863-4c7a-b790-8326bf1b80e9",
   "metadata": {},
   "outputs": [],
   "source": [
    "skf = StratifiedKFold(n_splits= 5, random_state= 0, shuffle= True)"
   ]
  },
  {
   "cell_type": "code",
   "execution_count": 78,
   "id": "c1e23d6c-cf22-4837-a304-18992eef965a",
   "metadata": {},
   "outputs": [
    {
     "name": "stdout",
     "output_type": "stream",
     "text": [
      "0: 55.52\n",
      "1: 44.48\n",
      "\n",
      "0: 55.52\n",
      "1: 44.48\n",
      "\n",
      "0: 55.56\n",
      "1: 44.44\n",
      "\n",
      "0: 55.56\n",
      "1: 44.44\n",
      "\n",
      "0: 55.56\n",
      "1: 44.44\n",
      "\n"
     ]
    }
   ],
   "source": [
    "for train, test in skf.split(x, y):\n",
    "    print('0:', round(y[train].value_counts()[0]/len(y[train]) * 100, 2))\n",
    "    print('1:', round(y[train].value_counts()[1]/len(y[train]) * 100, 2))\n",
    "    print()"
   ]
  },
  {
   "cell_type": "code",
   "execution_count": 80,
   "id": "657895b8-a111-4d29-8c5d-1bb94678dc10",
   "metadata": {},
   "outputs": [
    {
     "name": "stdout",
     "output_type": "stream",
     "text": [
      "Accuracy: 0.9854545454545455\n",
      "Accuracy: 0.9927272727272727\n",
      "Accuracy: 0.9890510948905109\n",
      "Accuracy: 0.9854014598540146\n",
      "Accuracy: 0.9671532846715328\n"
     ]
    }
   ],
   "source": [
    "for train, test in skf.split(x, y):\n",
    "    dt.fit(x.iloc[train,:], y[train])\n",
    "    y_pred = dt.predict(x.iloc[test,:])\n",
    "    print('Accuracy:', accuracy_score(y[test], y_pred))"
   ]
  },
  {
   "cell_type": "code",
   "execution_count": null,
   "id": "ac36ee36-4d01-4e08-9741-1f3a2778f431",
   "metadata": {},
   "outputs": [],
   "source": []
  }
 ],
 "metadata": {
  "kernelspec": {
   "display_name": "Python 3 (ipykernel)",
   "language": "python",
   "name": "python3"
  },
  "language_info": {
   "codemirror_mode": {
    "name": "ipython",
    "version": 3
   },
   "file_extension": ".py",
   "mimetype": "text/x-python",
   "name": "python",
   "nbconvert_exporter": "python",
   "pygments_lexer": "ipython3",
   "version": "3.11.9"
  }
 },
 "nbformat": 4,
 "nbformat_minor": 5
}
