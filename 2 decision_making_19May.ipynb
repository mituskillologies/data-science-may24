{
 "cells": [
  {
   "cell_type": "code",
   "execution_count": 4,
   "id": "0d58a7ec",
   "metadata": {},
   "outputs": [
    {
     "name": "stdout",
     "output_type": "stream",
     "text": [
      "Enter the Number 103\n",
      "number is greater than 50\n"
     ]
    }
   ],
   "source": [
    "# check if the number is greater than 50\n",
    "\n",
    "num = int(input('Enter the Number '))\n",
    "\n",
    "if num > 50:\n",
    "    print('number is greater than 50')"
   ]
  },
  {
   "cell_type": "code",
   "execution_count": 8,
   "id": "896ff07f",
   "metadata": {},
   "outputs": [
    {
     "name": "stdout",
     "output_type": "stream",
     "text": [
      "Enter the Number 17\n",
      "number is positive \n"
     ]
    }
   ],
   "source": [
    "# if a number is positive or negative\n",
    "\n",
    "num = int(input('Enter the Number '))\n",
    "\n",
    "if num > 0:\n",
    "    print('number is positive ')\n",
    "else:\n",
    "    print('number is negative')"
   ]
  },
  {
   "cell_type": "code",
   "execution_count": 11,
   "id": "39b5eca7",
   "metadata": {},
   "outputs": [
    {
     "name": "stdout",
     "output_type": "stream",
     "text": [
      "Enter the Number 0\n",
      "ZERO\n"
     ]
    }
   ],
   "source": [
    "num = int(input('Enter the Number '))\n",
    "\n",
    "if num > 0:\n",
    "    print('Positive')\n",
    "elif num == 0:\n",
    "    print('ZERO')\n",
    "else:\n",
    "    print('Negative')"
   ]
  },
  {
   "cell_type": "code",
   "execution_count": 13,
   "id": "71f36639",
   "metadata": {},
   "outputs": [
    {
     "name": "stdout",
     "output_type": "stream",
     "text": [
      "Enter the Number 5\n",
      "Odd\n"
     ]
    }
   ],
   "source": [
    "# check if the number is even or odd\n",
    "\n",
    "num = int(input('Enter the Number '))\n",
    "\n",
    "if num % 2 == 0:\n",
    "    print('Even')\n",
    "    print('GoodBye!')\n",
    "else:\n",
    "    print('Odd')"
   ]
  },
  {
   "cell_type": "code",
   "execution_count": 14,
   "id": "f9cd3a7b",
   "metadata": {},
   "outputs": [
    {
     "data": {
      "text/plain": [
       "2"
      ]
     },
     "execution_count": 14,
     "metadata": {},
     "output_type": "execute_result"
    }
   ],
   "source": [
    "True + True + False"
   ]
  },
  {
   "cell_type": "code",
   "execution_count": 17,
   "id": "fb5dd67f",
   "metadata": {},
   "outputs": [
    {
     "name": "stdout",
     "output_type": "stream",
     "text": [
      "Enter the Number 2\n",
      "Incorrect\n"
     ]
    }
   ],
   "source": [
    "# check if the number is in between 50 and 100\n",
    "\n",
    "num = int(input('Enter the Number '))\n",
    "\n",
    "if num > 50:\n",
    "    if num < 100:\n",
    "        print('Correct')\n",
    "    else:\n",
    "        print('greater than 100')\n",
    "else:\n",
    "    print('Incorrect')"
   ]
  },
  {
   "cell_type": "code",
   "execution_count": 22,
   "id": "4aba00c3",
   "metadata": {},
   "outputs": [
    {
     "name": "stdout",
     "output_type": "stream",
     "text": [
      "Enter the 1st Number: 1\n",
      "Enter the 2nd Number: 1\n",
      "Enter the 3rd Number: 1\n",
      "All are equal\n"
     ]
    }
   ],
   "source": [
    "# check greatest of 3 numbers\n",
    "\n",
    "num1 = int(input('Enter the 1st Number: '))\n",
    "num2 = int(input('Enter the 2nd Number: '))\n",
    "num3 = int(input('Enter the 3rd Number: '))\n",
    "\n",
    "if num1 > num2:\n",
    "    if num1 > num3:\n",
    "        print('Largest: ', num1)\n",
    "    else:\n",
    "        print('Largest: ', num3)\n",
    "elif num1 == num2 == num3:\n",
    "    print('All are equal')\n",
    "else:\n",
    "    if num2 > num3:\n",
    "        print('Largest: ', num2)\n",
    "    else:\n",
    "        print('Largest: ', num3)   "
   ]
  },
  {
   "cell_type": "code",
   "execution_count": 25,
   "id": "ba69983b",
   "metadata": {},
   "outputs": [
    {
     "name": "stdout",
     "output_type": "stream",
     "text": [
      "Enter the Number 42\n",
      "incorrect\n"
     ]
    }
   ],
   "source": [
    "num = int(input('Enter the Number '))\n",
    "\n",
    "if num > 50 and num < 100:\n",
    "    print('Correct')\n",
    "else:\n",
    "    print('incorrect')"
   ]
  },
  {
   "cell_type": "code",
   "execution_count": 28,
   "id": "c8f62a93",
   "metadata": {},
   "outputs": [
    {
     "name": "stdout",
     "output_type": "stream",
     "text": [
      "Enter the 1st Number: 3\n",
      "Enter the 2nd Number: 2\n",
      "Enter the 3rd Number: 1\n",
      "Largest:  3\n"
     ]
    }
   ],
   "source": [
    "num1 = int(input('Enter the 1st Number: '))\n",
    "num2 = int(input('Enter the 2nd Number: '))\n",
    "num3 = int(input('Enter the 3rd Number: '))\n",
    "\n",
    "if num1 > num2 and num1 > num3:\n",
    "    print('Largest: ', num1)\n",
    "elif num2 > num1 and num2 > num3:\n",
    "    print('Largest: ', num2)\n",
    "else:\n",
    "    print('Largest: ', num3)"
   ]
  },
  {
   "cell_type": "code",
   "execution_count": 30,
   "id": "cfc686bb",
   "metadata": {},
   "outputs": [
    {
     "name": "stdout",
     "output_type": "stream",
     "text": [
      "Enter the purchase cost: 1500\n",
      "Enter the selling cost: 2000\n",
      "Profit:  500\n"
     ]
    }
   ],
   "source": [
    "# read selling cost and purchase cost\n",
    "# find out had profit or loss and how much\n",
    "\n",
    "\n",
    "purchase_cost = int(input('Enter the purchase cost: '))\n",
    "selling_cost = int(input('Enter the selling cost: '))\n",
    "\n",
    "if selling_cost > purchase_cost:\n",
    "    print('Profit: ', selling_cost - purchase_cost)\n",
    "else:\n",
    "    print('loss: ', purchase_cost - selling_cost)"
   ]
  },
  {
   "cell_type": "code",
   "execution_count": 34,
   "id": "88e742ed",
   "metadata": {},
   "outputs": [
    {
     "name": "stdout",
     "output_type": "stream",
     "text": [
      "Enter the year: 1900\n",
      "Not Leap\n"
     ]
    }
   ],
   "source": [
    "# 2000: leap\n",
    "# 2001: not leap\n",
    "# 1900: not leap\n",
    "# 2020: leap year\n",
    "# take user input of an year => find if it is leap or not\n",
    "\n",
    "year = int(input('Enter the year: '))\n",
    "\n",
    "if year % 4 == 0:\n",
    "    if year % 100 == 0:\n",
    "        if year % 400 == 0: \n",
    "            print('Leap century year')\n",
    "        else:\n",
    "            print('Not Leap')\n",
    "    else:\n",
    "        print('Leap year')\n",
    "else:\n",
    "    print('not leap')"
   ]
  },
  {
   "cell_type": "code",
   "execution_count": 39,
   "id": "7fec9ed7",
   "metadata": {},
   "outputs": [
    {
     "name": "stdout",
     "output_type": "stream",
     "text": [
      "Enter the number: -7\n",
      "Menu:\n",
      "1. Square\n",
      "2. Cube\n",
      "3. positive or negative\n",
      "Enter the choice: 3\n",
      "Negative\n"
     ]
    }
   ],
   "source": [
    "'''\n",
    "read a number from the user and show following menu\n",
    "1. square\n",
    "2. Cube\n",
    "3. +ve or -ve\n",
    "'''\n",
    "\n",
    "num = int(input('Enter the number: '))\n",
    "\n",
    "print('Menu:\\n1. Square\\n2. Cube\\n3. positive or negative')\n",
    "\n",
    "choice = int(input('Enter the choice: '))\n",
    "\n",
    "if choice == 1:\n",
    "    print('Square: ', num * num)\n",
    "elif choice == 2:\n",
    "    print('Cube: ', num ** 3)\n",
    "elif choice == 3:\n",
    "    if num > 0:\n",
    "        print('Positive')\n",
    "    else:\n",
    "        print('Negative')\n",
    "else:\n",
    "    print('Please select the correct option')"
   ]
  },
  {
   "cell_type": "code",
   "execution_count": 44,
   "id": "cd5c0ed9",
   "metadata": {},
   "outputs": [
    {
     "name": "stdout",
     "output_type": "stream",
     "text": [
      "enter the currency in INR: 100\n",
      "Currency Menu:\n",
      "1. US doller\n",
      "2. Euro\n",
      "3. Pound\n",
      "4. Yen\n",
      "Enter the choice: 4\n",
      "Yen:  180.0\n"
     ]
    }
   ],
   "source": [
    "# currency converter\n",
    "# take input in INR\n",
    "'''\n",
    "US Dollar: 0.012045\n",
    "Euro: 0.011186\n",
    "British Pound: 0.009558\n",
    "Japanese Yen: 1.801077\n",
    "'''\n",
    "\n",
    "inr = float(input(\"enter the currency in INR: \"))\n",
    "\n",
    "print('Currency Menu:\\n1. US doller\\n2. Euro\\n3. Pound\\n4. Yen')\n",
    "\n",
    "ch = int(input('Enter the choice: '))\n",
    "\n",
    "if ch == 1:\n",
    "    print('doller: ', inr * 0.012045)\n",
    "elif ch == 2:\n",
    "    print('Euro: ', inr * 0.011186)\n",
    "elif ch == 3:\n",
    "    print('Pound: ', inr * 0.009558)\n",
    "elif ch == 4:\n",
    "    print('Yen: ', inr * 1.8)\n",
    "else:\n",
    "    print('Invalid Choice')"
   ]
  },
  {
   "cell_type": "code",
   "execution_count": 54,
   "id": "f44a8545",
   "metadata": {},
   "outputs": [
    {
     "name": "stdout",
     "output_type": "stream",
     "text": [
      "Enter a single letter: 5\n",
      "Invalid\n"
     ]
    }
   ],
   "source": [
    "# check if a letter is consonant or a vowel\n",
    "\n",
    "letter = input('Enter a single letter: ').lower()\n",
    "\n",
    "if len(letter) == 1 and letter.isalpha():\n",
    "    if letter in ('a', 'e', 'i', 'o', 'u'):\n",
    "        print('letter is a vowel')\n",
    "    else:\n",
    "        print('letter is a consonant')\n",
    "else:\n",
    "    print('Invalid')"
   ]
  },
  {
   "cell_type": "code",
   "execution_count": null,
   "id": "49676856",
   "metadata": {},
   "outputs": [],
   "source": []
  }
 ],
 "metadata": {
  "kernelspec": {
   "display_name": "Python 3 (ipykernel)",
   "language": "python",
   "name": "python3"
  },
  "language_info": {
   "codemirror_mode": {
    "name": "ipython",
    "version": 3
   },
   "file_extension": ".py",
   "mimetype": "text/x-python",
   "name": "python",
   "nbconvert_exporter": "python",
   "pygments_lexer": "ipython3",
   "version": "3.11.5"
  }
 },
 "nbformat": 4,
 "nbformat_minor": 5
}
