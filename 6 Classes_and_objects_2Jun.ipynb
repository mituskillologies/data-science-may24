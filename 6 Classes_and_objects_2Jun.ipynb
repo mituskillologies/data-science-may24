{
 "cells": [
  {
   "cell_type": "code",
   "execution_count": 1,
   "id": "116f4dca",
   "metadata": {},
   "outputs": [],
   "source": [
    "class Employee():\n",
    "    pass"
   ]
  },
  {
   "cell_type": "code",
   "execution_count": 2,
   "id": "cfca8ffd",
   "metadata": {},
   "outputs": [],
   "source": [
    "emp1 = Employee()   # object or an instance of employee class\n",
    "emp2 = Employee()"
   ]
  },
  {
   "cell_type": "code",
   "execution_count": 3,
   "id": "9e9a99ea",
   "metadata": {},
   "outputs": [
    {
     "name": "stdout",
     "output_type": "stream",
     "text": [
      "<__main__.Employee object at 0x7ce214553890>\n",
      "<__main__.Employee object at 0x7ce2170e4150>\n"
     ]
    }
   ],
   "source": [
    "print(emp1)\n",
    "print(emp2)"
   ]
  },
  {
   "cell_type": "code",
   "execution_count": 4,
   "id": "0b6d47e0",
   "metadata": {},
   "outputs": [],
   "source": [
    "# instance variables\n",
    "emp1.first = 'Rajesh'\n",
    "emp1.last = 'Deshmukh'\n",
    "emp1.salary = 50000\n",
    "\n",
    "emp2.first = 'Riya'\n",
    "emp2.last = 'Patil'\n",
    "emp2.salary = 51000"
   ]
  },
  {
   "cell_type": "code",
   "execution_count": 5,
   "id": "0b00ec00",
   "metadata": {},
   "outputs": [
    {
     "name": "stdout",
     "output_type": "stream",
     "text": [
      "Rajesh\n"
     ]
    }
   ],
   "source": [
    "print(emp1.first)"
   ]
  },
  {
   "cell_type": "code",
   "execution_count": 6,
   "id": "34a83479",
   "metadata": {},
   "outputs": [
    {
     "name": "stdout",
     "output_type": "stream",
     "text": [
      "Patil\n"
     ]
    }
   ],
   "source": [
    "print(emp2.last)"
   ]
  },
  {
   "cell_type": "code",
   "execution_count": 17,
   "id": "12497597",
   "metadata": {},
   "outputs": [],
   "source": [
    "class Employee():\n",
    "    def __init__ (self, first, last, salary):\n",
    "        self.first = first\n",
    "        self.last = last\n",
    "        self.salary = salary\n",
    "        \n",
    "    def msg(self):\n",
    "        print(self.first + ' ' + 'OK')\n",
    "        \n",
    "    def annual_sal(self):\n",
    "        print('Annual Salary is ', self.salary * 12)"
   ]
  },
  {
   "cell_type": "code",
   "execution_count": 18,
   "id": "80c504cc",
   "metadata": {},
   "outputs": [],
   "source": [
    "emp1 = Employee('Rajesh', 'Deshmukh', 50000)"
   ]
  },
  {
   "cell_type": "code",
   "execution_count": 19,
   "id": "10072257",
   "metadata": {},
   "outputs": [
    {
     "name": "stdout",
     "output_type": "stream",
     "text": [
      "Deshmukh\n"
     ]
    }
   ],
   "source": [
    "print(emp1.last)"
   ]
  },
  {
   "cell_type": "code",
   "execution_count": 20,
   "id": "1b576c99",
   "metadata": {},
   "outputs": [],
   "source": [
    "emp2 = Employee('Riya', 'Patil', 51000)"
   ]
  },
  {
   "cell_type": "code",
   "execution_count": 21,
   "id": "b410d1bb",
   "metadata": {},
   "outputs": [
    {
     "name": "stdout",
     "output_type": "stream",
     "text": [
      "Rajesh OK\n"
     ]
    }
   ],
   "source": [
    "emp1.msg()"
   ]
  },
  {
   "cell_type": "code",
   "execution_count": 22,
   "id": "4261c0fa",
   "metadata": {},
   "outputs": [],
   "source": [
    "# create a method in employee class to show annual salary of an employee"
   ]
  },
  {
   "cell_type": "code",
   "execution_count": 23,
   "id": "8d970b15",
   "metadata": {},
   "outputs": [
    {
     "name": "stdout",
     "output_type": "stream",
     "text": [
      "Annual Salary is  600000\n"
     ]
    }
   ],
   "source": [
    "emp1.annual_sal()"
   ]
  },
  {
   "cell_type": "code",
   "execution_count": 31,
   "id": "a6d5c94d",
   "metadata": {},
   "outputs": [],
   "source": [
    "# Encapsulation\n",
    "# making a variable private => __\n",
    "\n",
    "class Employee1():\n",
    "    def __init__ (self, first, last, salary):\n",
    "        self.first = first\n",
    "        self.last = last\n",
    "        self.__salary = salary\n",
    "        \n",
    "    def msg(self):\n",
    "        print(self.first + ' ' + 'OK')\n",
    "        \n",
    "    def show_sal(self):\n",
    "        print('Salary ', self.__salary)"
   ]
  },
  {
   "cell_type": "code",
   "execution_count": 32,
   "id": "5a3c5b02",
   "metadata": {},
   "outputs": [],
   "source": [
    "emp1 = Employee1('Rajesh', 'Deshmukh', 50000)\n",
    "emp2 = Employee1('Riya', 'Patil', 51000)"
   ]
  },
  {
   "cell_type": "code",
   "execution_count": 33,
   "id": "acddff65",
   "metadata": {},
   "outputs": [
    {
     "ename": "AttributeError",
     "evalue": "'Employee1' object has no attribute 'salary'",
     "output_type": "error",
     "traceback": [
      "\u001b[0;31m---------------------------------------------------------------------------\u001b[0m",
      "\u001b[0;31mAttributeError\u001b[0m                            Traceback (most recent call last)",
      "Cell \u001b[0;32mIn[33], line 1\u001b[0m\n\u001b[0;32m----> 1\u001b[0m \u001b[38;5;28mprint\u001b[39m(emp1\u001b[38;5;241m.\u001b[39msalary)\n",
      "\u001b[0;31mAttributeError\u001b[0m: 'Employee1' object has no attribute 'salary'"
     ]
    }
   ],
   "source": [
    "print(emp1.salary)"
   ]
  },
  {
   "cell_type": "code",
   "execution_count": 34,
   "id": "fe38fce4",
   "metadata": {},
   "outputs": [
    {
     "name": "stdout",
     "output_type": "stream",
     "text": [
      "Salary  50000\n"
     ]
    }
   ],
   "source": [
    "emp1.show_sal()"
   ]
  },
  {
   "cell_type": "code",
   "execution_count": 35,
   "id": "65c84a83",
   "metadata": {},
   "outputs": [],
   "source": [
    "# Inheritance"
   ]
  },
  {
   "cell_type": "code",
   "execution_count": 36,
   "id": "a4101f34",
   "metadata": {},
   "outputs": [],
   "source": [
    "class Employee2(Employee1):\n",
    "    pass"
   ]
  },
  {
   "cell_type": "code",
   "execution_count": 37,
   "id": "26d0d00f",
   "metadata": {},
   "outputs": [],
   "source": [
    "emp3 = Employee2('Nitesh', 'Rana', 48000)"
   ]
  },
  {
   "cell_type": "code",
   "execution_count": 38,
   "id": "1464eb7b",
   "metadata": {},
   "outputs": [
    {
     "name": "stdout",
     "output_type": "stream",
     "text": [
      "Nitesh\n"
     ]
    }
   ],
   "source": [
    "print(emp3.first)"
   ]
  },
  {
   "cell_type": "code",
   "execution_count": 40,
   "id": "c30bfc65",
   "metadata": {},
   "outputs": [],
   "source": [
    "'''create a class called Person\n",
    "objects having attributes name, age, city, hobby\n",
    "(create 3 objects)\n",
    "create a method which will show all the info upon calling\n",
    "''';"
   ]
  },
  {
   "cell_type": "code",
   "execution_count": 41,
   "id": "71881c02",
   "metadata": {},
   "outputs": [],
   "source": [
    "class Person():\n",
    "    def __init__ (self, n, a = 25):\n",
    "        self.name = n\n",
    "        self.age = a\n",
    "    def show_info(self):\n",
    "        print('Name ', self.name)\n",
    "        print('Age ', self.age)"
   ]
  },
  {
   "cell_type": "code",
   "execution_count": 42,
   "id": "7cddcdc1",
   "metadata": {},
   "outputs": [],
   "source": [
    "p1 = Person('Akash', 32)"
   ]
  },
  {
   "cell_type": "code",
   "execution_count": 43,
   "id": "88119bac",
   "metadata": {},
   "outputs": [],
   "source": [
    "p2 = Person('Ajay')"
   ]
  },
  {
   "cell_type": "code",
   "execution_count": 45,
   "id": "852c97dd",
   "metadata": {},
   "outputs": [
    {
     "name": "stdout",
     "output_type": "stream",
     "text": [
      "Name  Akash\n",
      "Age  32\n"
     ]
    }
   ],
   "source": [
    "p1.show_info()"
   ]
  },
  {
   "cell_type": "code",
   "execution_count": 46,
   "id": "628f5e5c",
   "metadata": {},
   "outputs": [
    {
     "name": "stdout",
     "output_type": "stream",
     "text": [
      "Name  Ajay\n",
      "Age  25\n"
     ]
    }
   ],
   "source": [
    "p2.show_info()"
   ]
  },
  {
   "cell_type": "code",
   "execution_count": null,
   "id": "86d5f843",
   "metadata": {},
   "outputs": [],
   "source": []
  }
 ],
 "metadata": {
  "kernelspec": {
   "display_name": "Python 3 (ipykernel)",
   "language": "python",
   "name": "python3"
  },
  "language_info": {
   "codemirror_mode": {
    "name": "ipython",
    "version": 3
   },
   "file_extension": ".py",
   "mimetype": "text/x-python",
   "name": "python",
   "nbconvert_exporter": "python",
   "pygments_lexer": "ipython3",
   "version": "3.11.5"
  }
 },
 "nbformat": 4,
 "nbformat_minor": 5
}
