{
 "cells": [
  {
   "cell_type": "code",
   "execution_count": 1,
   "id": "e59faa92-aa5a-4f3e-8e00-0a8737c3b04d",
   "metadata": {},
   "outputs": [],
   "source": [
    "import numpy as np\n",
    "import matplotlib.pyplot as plt"
   ]
  },
  {
   "cell_type": "code",
   "execution_count": 3,
   "id": "1f310a09-9d8b-4e05-96be-e589174df00a",
   "metadata": {},
   "outputs": [],
   "source": [
    "x = np.arange(-5, 5, 0.25)"
   ]
  },
  {
   "cell_type": "code",
   "execution_count": 5,
   "id": "b41b59cd-7dd8-4b10-accf-23b803addaf7",
   "metadata": {},
   "outputs": [
    {
     "data": {
      "text/plain": [
       "array([-5.  , -4.75, -4.5 , -4.25, -4.  , -3.75, -3.5 , -3.25, -3.  ,\n",
       "       -2.75, -2.5 , -2.25, -2.  , -1.75, -1.5 , -1.25, -1.  , -0.75,\n",
       "       -0.5 , -0.25,  0.  ,  0.25,  0.5 ,  0.75,  1.  ,  1.25,  1.5 ,\n",
       "        1.75,  2.  ,  2.25,  2.5 ,  2.75,  3.  ,  3.25,  3.5 ,  3.75,\n",
       "        4.  ,  4.25,  4.5 ,  4.75])"
      ]
     },
     "execution_count": 5,
     "metadata": {},
     "output_type": "execute_result"
    }
   ],
   "source": [
    "x"
   ]
  },
  {
   "cell_type": "code",
   "execution_count": 9,
   "id": "d3e21a15-3d96-4d14-96e2-40df142d8151",
   "metadata": {},
   "outputs": [],
   "source": [
    "# Linear equation\n",
    "\n",
    "y = 4.6 * x + 6.23   # y = mx + c"
   ]
  },
  {
   "cell_type": "code",
   "execution_count": 11,
   "id": "d04491b7-3d63-4cd9-bb1b-d59afb315fec",
   "metadata": {},
   "outputs": [
    {
     "data": {
      "text/plain": [
       "array([-16.77, -15.62, -14.47, -13.32, -12.17, -11.02,  -9.87,  -8.72,\n",
       "        -7.57,  -6.42,  -5.27,  -4.12,  -2.97,  -1.82,  -0.67,   0.48,\n",
       "         1.63,   2.78,   3.93,   5.08,   6.23,   7.38,   8.53,   9.68,\n",
       "        10.83,  11.98,  13.13,  14.28,  15.43,  16.58,  17.73,  18.88,\n",
       "        20.03,  21.18,  22.33,  23.48,  24.63,  25.78,  26.93,  28.08])"
      ]
     },
     "execution_count": 11,
     "metadata": {},
     "output_type": "execute_result"
    }
   ],
   "source": [
    "y"
   ]
  },
  {
   "cell_type": "code",
   "execution_count": 15,
   "id": "f45f0e5a-28bd-47dc-9ed7-17c736e7d233",
   "metadata": {},
   "outputs": [
    {
     "data": {
      "image/png": "[encoded data removed]",
      "text/plain": [
       "<Figure size 640x480 with 1 Axes>"
      ]
     },
     "metadata": {},
     "output_type": "display_data"
    }
   ],
   "source": [
    "plt.scatter(x, y);"
   ]
  },
  {
   "cell_type": "code",
   "execution_count": null,
   "id": "dd5f8e71-91b2-4c72-8895-4b70b97d350c",
   "metadata": {},
   "outputs": [],
   "source": []
  }
 ],
 "metadata": {
  "kernelspec": {
   "display_name": "Python 3 (ipykernel)",
   "language": "python",
   "name": "python3"
  },
  "language_info": {
   "codemirror_mode": {
    "name": "ipython",
    "version": 3
   },
   "file_extension": ".py",
   "mimetype": "text/x-python",
   "name": "python",
   "nbconvert_exporter": "python",
   "pygments_lexer": "ipython3",
   "version": "3.11.9"
  }
 },
 "nbformat": 4,
 "nbformat_minor": 5
}
