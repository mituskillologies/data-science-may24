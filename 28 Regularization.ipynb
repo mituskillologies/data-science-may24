{
 "cells": [
  {
   "cell_type": "code",
   "execution_count": 1,
   "id": "d53a04bd-41c4-4748-a626-715ce827fc14",
   "metadata": {},
   "outputs": [],
   "source": [
    "# data: BostonHousing.csv"
   ]
  },
  {
   "cell_type": "code",
   "execution_count": 3,
   "id": "0d5d1587-aa4e-44f6-b8c0-5b68841250b8",
   "metadata": {},
   "outputs": [],
   "source": [
    "# o/p => medv\n",
    "# cross val => 75 , 25\n",
    "# linear reg -> train and test acc\n",
    "# poly reg -> "
   ]
  },
  {
   "cell_type": "code",
   "execution_count": 5,
   "id": "dab23ad8-9972-43d0-8aed-a73eafab9982",
   "metadata": {},
   "outputs": [],
   "source": [
    "import pandas as pd\n",
    "import numpy as np\n",
    "import matplotlib.pyplot as plt\n",
    "import seaborn as sns"
   ]
  },
  {
   "cell_type": "code",
   "execution_count": 7,
   "id": "241b8339-b62e-4471-b6ad-747c5478fad6",
   "metadata": {},
   "outputs": [
    {
     "data": {
      "text/html": [
       "<div>\n",
       "<style scoped>\n",
       "    .dataframe tbody tr th:only-of-type {\n",
       "        vertical-align: middle;\n",
       "    }\n",
       "\n",
       "    .dataframe tbody tr th {\n",
       "        vertical-align: top;\n",
       "    }\n",
       "\n",
       "    .dataframe thead th {\n",
       "        text-align: right;\n",
       "    }\n",
       "</style>\n",
       "<table border=\"1\" class=\"dataframe\">\n",
       "  <thead>\n",
       "    <tr style=\"text-align: right;\">\n",
       "      <th></th>\n",
       "      <th>crim</th>\n",
       "      <th>zn</th>\n",
       "      <th>indus</th>\n",
       "      <th>chas</th>\n",
       "      <th>nox</th>\n",
       "      <th>rm</th>\n",
       "      <th>age</th>\n",
       "      <th>dis</th>\n",
       "      <th>rad</th>\n",
       "      <th>tax</th>\n",
       "      <th>ptratio</th>\n",
       "      <th>b</th>\n",
       "      <th>lstat</th>\n",
       "      <th>medv</th>\n",
       "    </tr>\n",
       "  </thead>\n",
       "  <tbody>\n",
       "    <tr>\n",
       "      <th>0</th>\n",
       "      <td>0.00632</td>\n",
       "      <td>18.0</td>\n",
       "      <td>2.31</td>\n",
       "      <td>0</td>\n",
       "      <td>0.538</td>\n",
       "      <td>6.575</td>\n",
       "      <td>65.2</td>\n",
       "      <td>4.0900</td>\n",
       "      <td>1</td>\n",
       "      <td>296</td>\n",
       "      <td>15.3</td>\n",
       "      <td>396.90</td>\n",
       "      <td>4.98</td>\n",
       "      <td>24.0</td>\n",
       "    </tr>\n",
       "    <tr>\n",
       "      <th>1</th>\n",
       "      <td>0.02731</td>\n",
       "      <td>0.0</td>\n",
       "      <td>7.07</td>\n",
       "      <td>0</td>\n",
       "      <td>0.469</td>\n",
       "      <td>6.421</td>\n",
       "      <td>78.9</td>\n",
       "      <td>4.9671</td>\n",
       "      <td>2</td>\n",
       "      <td>242</td>\n",
       "      <td>17.8</td>\n",
       "      <td>396.90</td>\n",
       "      <td>9.14</td>\n",
       "      <td>21.6</td>\n",
       "    </tr>\n",
       "    <tr>\n",
       "      <th>2</th>\n",
       "      <td>0.02729</td>\n",
       "      <td>0.0</td>\n",
       "      <td>7.07</td>\n",
       "      <td>0</td>\n",
       "      <td>0.469</td>\n",
       "      <td>7.185</td>\n",
       "      <td>61.1</td>\n",
       "      <td>4.9671</td>\n",
       "      <td>2</td>\n",
       "      <td>242</td>\n",
       "      <td>17.8</td>\n",
       "      <td>392.83</td>\n",
       "      <td>4.03</td>\n",
       "      <td>34.7</td>\n",
       "    </tr>\n",
       "  </tbody>\n",
       "</table>\n",
       "</div>"
      ],
      "text/plain": [
       "      crim    zn  indus  chas    nox     rm   age     dis  rad  tax  ptratio  \\\n",
       "0  0.00632  18.0   2.31     0  0.538  6.575  65.2  4.0900    1  296     15.3   \n",
       "1  0.02731   0.0   7.07     0  0.469  6.421  78.9  4.9671    2  242     17.8   \n",
       "2  0.02729   0.0   7.07     0  0.469  7.185  61.1  4.9671    2  242     17.8   \n",
       "\n",
       "        b  lstat  medv  \n",
       "0  396.90   4.98  24.0  \n",
       "1  396.90   9.14  21.6  \n",
       "2  392.83   4.03  34.7  "
      ]
     },
     "execution_count": 7,
     "metadata": {},
     "output_type": "execute_result"
    }
   ],
   "source": [
    "df = pd.read_csv('BostonHousing.csv')\n",
    "df.head(3)"
   ]
  },
  {
   "cell_type": "code",
   "execution_count": 9,
   "id": "1ee1184a-fc78-48b3-ae69-5b13588e6ce1",
   "metadata": {},
   "outputs": [],
   "source": [
    "# separate input and output\n",
    "\n",
    "x = df.drop('medv', axis =1)\n",
    "\n",
    "y = df['medv']"
   ]
  },
  {
   "cell_type": "code",
   "execution_count": 11,
   "id": "9a23cab5-f7ee-4326-a744-d8e657bc59ce",
   "metadata": {},
   "outputs": [],
   "source": [
    "from sklearn.model_selection import train_test_split\n",
    "x_train, x_test, y_train, y_test = train_test_split(x, y, \n",
    "                                                   random_state= 0,\n",
    "                                                   test_size= 0.25)"
   ]
  },
  {
   "cell_type": "code",
   "execution_count": 13,
   "id": "10be6f25-1b4b-48d5-b9e0-673b45bcce98",
   "metadata": {},
   "outputs": [
    {
     "name": "stdout",
     "output_type": "stream",
     "text": [
      "train acc: 0.7697699488741149\n",
      "test acc: 0.6354638433202122\n"
     ]
    }
   ],
   "source": [
    "# linear reg\n",
    "\n",
    "from sklearn.linear_model import LinearRegression\n",
    "lr = LinearRegression()\n",
    "lr.fit(x_train, y_train)\n",
    "print('train acc:', lr.score(x_train, y_train))\n",
    "print('test acc:', lr.score(x_test, y_test))"
   ]
  },
  {
   "cell_type": "code",
   "execution_count": 15,
   "id": "0fa70054-e50f-4b3d-99f4-45ca56d5d732",
   "metadata": {},
   "outputs": [],
   "source": [
    "# standard scaling\n",
    "from sklearn.preprocessing import StandardScaler\n",
    "sca = StandardScaler()\n",
    "x_scaled = sca.fit_transform(x)"
   ]
  },
  {
   "cell_type": "code",
   "execution_count": 19,
   "id": "f1f6586d-39c7-40f9-9de8-3c47d2a145d2",
   "metadata": {},
   "outputs": [],
   "source": [
    "# polynomial features\n",
    "from sklearn.preprocessing import PolynomialFeatures\n",
    "poly = PolynomialFeatures(degree = 2)\n",
    "x_poly = poly.fit_transform(x_scaled)"
   ]
  },
  {
   "cell_type": "code",
   "execution_count": 21,
   "id": "e6cdf684-0a18-432d-9643-94711087fb2a",
   "metadata": {},
   "outputs": [],
   "source": [
    "x_train, x_test, y_train, y_test = train_test_split(x_poly, y, \n",
    "                                                   random_state= 0,\n",
    "                                                   test_size= 0.25)"
   ]
  },
  {
   "cell_type": "code",
   "execution_count": 23,
   "id": "cef057e3-83dd-4242-bddf-e3f830b17107",
   "metadata": {},
   "outputs": [
    {
     "name": "stdout",
     "output_type": "stream",
     "text": [
      "train acc: 0.9519069864968989\n",
      "test acc: 0.5952529508966087\n"
     ]
    }
   ],
   "source": [
    "from sklearn.linear_model import LinearRegression\n",
    "lr = LinearRegression()\n",
    "lr.fit(x_train, y_train)\n",
    "print('train acc:', lr.score(x_train, y_train))\n",
    "print('test acc:', lr.score(x_test, y_test))"
   ]
  },
  {
   "cell_type": "markdown",
   "id": "9884cd38-7889-4ece-9816-fe0cdd831499",
   "metadata": {},
   "source": [
    "# Ridge regression"
   ]
  },
  {
   "cell_type": "code",
   "execution_count": 34,
   "id": "fa8d511b-9518-41c3-9029-393d18a6ca73",
   "metadata": {},
   "outputs": [
    {
     "name": "stdout",
     "output_type": "stream",
     "text": [
      "train acc: 0.9322941927160353\n",
      "test acc: 0.7812858198114949\n"
     ]
    }
   ],
   "source": [
    "from sklearn.linear_model import Ridge\n",
    "regressor = Ridge(alpha = 20)\n",
    "\n",
    "regressor.fit(x_train, y_train)\n",
    "print('train acc:', regressor.score(x_train, y_train))\n",
    "print('test acc:', regressor.score(x_test, y_test))"
   ]
  },
  {
   "cell_type": "markdown",
   "id": "25417dfb-2af8-43bd-a79e-e2721d662b9c",
   "metadata": {},
   "source": [
    "# Lasso"
   ]
  },
  {
   "cell_type": "code",
   "execution_count": 38,
   "id": "3c7e5169-2313-4280-a55f-40d973b95775",
   "metadata": {},
   "outputs": [
    {
     "name": "stdout",
     "output_type": "stream",
     "text": [
      "train acc: 0.8501864137839339\n",
      "test acc: 0.7191541647877532\n"
     ]
    }
   ],
   "source": [
    "from sklearn.linear_model import Lasso\n",
    "\n",
    "regressor = Lasso(alpha = 0.5)\n",
    "\n",
    "regressor.fit(x_train, y_train)\n",
    "print('train acc:', regressor.score(x_train, y_train))\n",
    "print('test acc:', regressor.score(x_test, y_test))"
   ]
  },
  {
   "cell_type": "markdown",
   "id": "ad3f0f9a-a258-49f2-bb75-58d6a39d85c3",
   "metadata": {},
   "source": [
    "# Elastic Net"
   ]
  },
  {
   "cell_type": "code",
   "execution_count": 42,
   "id": "b38cd4c1-337e-4427-bc00-0c586129aa50",
   "metadata": {},
   "outputs": [
    {
     "name": "stdout",
     "output_type": "stream",
     "text": [
      "train acc: 0.918219595998159\n",
      "test acc: 0.7856551562620224\n"
     ]
    }
   ],
   "source": [
    "from sklearn.linear_model import ElasticNet\n",
    "regressor = ElasticNet(alpha = 0.1)\n",
    "\n",
    "regressor.fit(x_train, y_train)\n",
    "print('train acc:', regressor.score(x_train, y_train))\n",
    "print('test acc:', regressor.score(x_test, y_test))"
   ]
  },
  {
   "cell_type": "code",
   "execution_count": null,
   "id": "a8b8471b-e39e-442b-84d1-a965a986e48b",
   "metadata": {},
   "outputs": [],
   "source": []
  }
 ],
 "metadata": {
  "kernelspec": {
   "display_name": "Python 3 (ipykernel)",
   "language": "python",
   "name": "python3"
  },
  "language_info": {
   "codemirror_mode": {
    "name": "ipython",
    "version": 3
   },
   "file_extension": ".py",
   "mimetype": "text/x-python",
   "name": "python",
   "nbconvert_exporter": "python",
   "pygments_lexer": "ipython3",
   "version": "3.11.9"
  }
 },
 "nbformat": 4,
 "nbformat_minor": 5
}
