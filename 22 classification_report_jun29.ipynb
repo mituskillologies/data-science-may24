{
 "cells": [
  {
   "cell_type": "code",
   "execution_count": 3,
   "id": "5d17ad76-31f4-4168-b2bf-fe766e9503df",
   "metadata": {},
   "outputs": [],
   "source": [
    "import pandas as pd"
   ]
  },
  {
   "cell_type": "code",
   "execution_count": 1,
   "id": "e3f9b730-b9ff-4fce-807f-aaaa657e812f",
   "metadata": {},
   "outputs": [],
   "source": [
    "actual =    ['c', 'c', 'nc', 'c', 'nc', 'nc', 'nc', 'c', 'c']\n",
    "\n",
    "predicted = ['nc', 'c', 'nc', 'nc', 'c', 'nc', 'nc', 'c', 'nc']"
   ]
  },
  {
   "cell_type": "code",
   "execution_count": 5,
   "id": "5f1bff5b-fb8d-48e6-8266-b67d6ced114e",
   "metadata": {
    "scrolled": true
   },
   "outputs": [
    {
     "data": {
      "text/html": [
       "<div>\n",
       "<style scoped>\n",
       "    .dataframe tbody tr th:only-of-type {\n",
       "        vertical-align: middle;\n",
       "    }\n",
       "\n",
       "    .dataframe tbody tr th {\n",
       "        vertical-align: top;\n",
       "    }\n",
       "\n",
       "    .dataframe thead th {\n",
       "        text-align: right;\n",
       "    }\n",
       "</style>\n",
       "<table border=\"1\" class=\"dataframe\">\n",
       "  <thead>\n",
       "    <tr style=\"text-align: right;\">\n",
       "      <th></th>\n",
       "      <th>actual</th>\n",
       "      <th>predicted</th>\n",
       "    </tr>\n",
       "  </thead>\n",
       "  <tbody>\n",
       "    <tr>\n",
       "      <th>0</th>\n",
       "      <td>c</td>\n",
       "      <td>nc</td>\n",
       "    </tr>\n",
       "    <tr>\n",
       "      <th>1</th>\n",
       "      <td>c</td>\n",
       "      <td>c</td>\n",
       "    </tr>\n",
       "    <tr>\n",
       "      <th>2</th>\n",
       "      <td>nc</td>\n",
       "      <td>nc</td>\n",
       "    </tr>\n",
       "    <tr>\n",
       "      <th>3</th>\n",
       "      <td>c</td>\n",
       "      <td>nc</td>\n",
       "    </tr>\n",
       "    <tr>\n",
       "      <th>4</th>\n",
       "      <td>nc</td>\n",
       "      <td>c</td>\n",
       "    </tr>\n",
       "    <tr>\n",
       "      <th>5</th>\n",
       "      <td>nc</td>\n",
       "      <td>nc</td>\n",
       "    </tr>\n",
       "    <tr>\n",
       "      <th>6</th>\n",
       "      <td>nc</td>\n",
       "      <td>nc</td>\n",
       "    </tr>\n",
       "    <tr>\n",
       "      <th>7</th>\n",
       "      <td>c</td>\n",
       "      <td>c</td>\n",
       "    </tr>\n",
       "    <tr>\n",
       "      <th>8</th>\n",
       "      <td>c</td>\n",
       "      <td>nc</td>\n",
       "    </tr>\n",
       "  </tbody>\n",
       "</table>\n",
       "</div>"
      ],
      "text/plain": [
       "  actual predicted\n",
       "0      c        nc\n",
       "1      c         c\n",
       "2     nc        nc\n",
       "3      c        nc\n",
       "4     nc         c\n",
       "5     nc        nc\n",
       "6     nc        nc\n",
       "7      c         c\n",
       "8      c        nc"
      ]
     },
     "execution_count": 5,
     "metadata": {},
     "output_type": "execute_result"
    }
   ],
   "source": [
    "res = pd.DataFrame({\n",
    "    'actual': actual,\n",
    "    'predicted': predicted\n",
    "})\n",
    "res"
   ]
  },
  {
   "cell_type": "markdown",
   "id": "c5430da1-41b6-4a75-87b3-9d9b458f5377",
   "metadata": {},
   "source": [
    "# Cat"
   ]
  },
  {
   "cell_type": "code",
   "execution_count": 8,
   "id": "284036af-6032-44fe-af09-9e8a0bf31ed9",
   "metadata": {},
   "outputs": [
    {
     "data": {
      "text/plain": [
       "0.6666666666666666"
      ]
     },
     "execution_count": 8,
     "metadata": {},
     "output_type": "execute_result"
    }
   ],
   "source": [
    "# precision\n",
    "# out of the cats predicted... how many right\n",
    "\n",
    "precision =  2/3  \n",
    "precision\n",
    "# TP/TP + FP"
   ]
  },
  {
   "cell_type": "code",
   "execution_count": 10,
   "id": "ed2af24d-a2c8-4f8e-9c14-855ad7f8a746",
   "metadata": {},
   "outputs": [
    {
     "data": {
      "text/plain": [
       "0.4"
      ]
     },
     "execution_count": 10,
     "metadata": {},
     "output_type": "execute_result"
    }
   ],
   "source": [
    "# recall\n",
    "# out of the actual cats... how many model were able to predict\n",
    "\n",
    "recall = 2/5\n",
    "recall"
   ]
  },
  {
   "cell_type": "code",
   "execution_count": 12,
   "id": "4df6b4cf-af48-4f41-8044-326ac3fbc4d4",
   "metadata": {},
   "outputs": [
    {
     "data": {
      "text/plain": [
       "0.5"
      ]
     },
     "execution_count": 12,
     "metadata": {},
     "output_type": "execute_result"
    }
   ],
   "source": [
    "# f1 score\n",
    "# harmonic mean between precision and recall\n",
    "# HM = 2AB/ A + B\n",
    "\n",
    "hm = 2 * precision * recall/ (precision + recall)\n",
    "hm"
   ]
  },
  {
   "cell_type": "code",
   "execution_count": 14,
   "id": "fd00c774-8dca-45ce-a3d5-698fc4512128",
   "metadata": {},
   "outputs": [
    {
     "data": {
      "text/plain": [
       "5"
      ]
     },
     "execution_count": 14,
     "metadata": {},
     "output_type": "execute_result"
    }
   ],
   "source": [
    "# recall\n",
    "\n",
    "support = 5\n",
    "support"
   ]
  },
  {
   "cell_type": "code",
   "execution_count": null,
   "id": "79b96079-4fcf-45ab-a03a-2821c869c8e2",
   "metadata": {},
   "outputs": [],
   "source": []
  }
 ],
 "metadata": {
  "kernelspec": {
   "display_name": "Python 3 (ipykernel)",
   "language": "python",
   "name": "python3"
  },
  "language_info": {
   "codemirror_mode": {
    "name": "ipython",
    "version": 3
   },
   "file_extension": ".py",
   "mimetype": "text/x-python",
   "name": "python",
   "nbconvert_exporter": "python",
   "pygments_lexer": "ipython3",
   "version": "3.11.9"
  }
 },
 "nbformat": 4,
 "nbformat_minor": 5
}
